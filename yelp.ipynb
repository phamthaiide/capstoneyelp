{
 "cells": [
  {
   "cell_type": "markdown",
   "metadata": {},
   "source": [
    "# Table of Contents\n",
    "___\n",
    "\n",
    "1. <a href='#overview_destination'>Overview</a>\n",
    "2. <a href='#source_data_destination'>Source Data</a>\n",
    "3. <a href='#getting_data_destination'>Getting Data</a>\n",
    "4. <a href='#cleaning_destination'>Cleaning Data</a>\n",
    "5. <a href='#eda_destination'>EDA</a>\n",
    "6. <a href='#modelling_destination'>Modelling</a>\n",
    "7. <a href='#recommender_destination'>Building A Recommender</a>\n",
    "8. <a href='#explore_destination'>Explore Additional Models</a>\n",
    "9. <a href='#summary_destination'>Summary</a>"
   ]
  },
  {
   "cell_type": "markdown",
   "metadata": {},
   "source": [
    "<a id='overview_destination'></a>\n",
    "## 1 Overview\n",
    "___\n",
    "\n",
    "Yelp is a service providing crowd-sourced reviews on businesses. The service offers both website and mobile app where users can leave photos together with comments regarding the services at these establishments.\n",
    "\n",
    "This project tries to see if we can utilize the data available to make recommendation to users regarding restaurants listed on Yelp. I'm intersted in extracting cues regarding food taste of a user and \n",
    "\n",
    "There are many ways to build a recommender system. The planned methodology for this project is to use collaborative filtering, specifically matrix factorization, to make prediction of potential ratings of a user for a specific restaurant.\n",
    "\n",
    "The modelling package is https://surprise.readthedocs.io/en/stable/\n",
    "\n",
    "The Singular Value Decomposition:\n",
    "\n",
    "$$\\hat{r}_{ui}=\\mu + {b}_{u} + {b}_{i} + {q}^{T}_{i}{p}_{u}$$\n",
    "\n",
    "The cost function to optimize is:\n",
    "\n",
    "$$\\sum_{{r}_{ui}\\in{R}_{train}}({r}_{ui}-\\hat{r}_{ui})^2+\\lambda({b}_{i}^2 + {b}_{u}^2 + ||{q}_{i}||^2 + ||{p}_{u}||^2)$$"
   ]
  },
  {
   "cell_type": "markdown",
   "metadata": {},
   "source": [
    "<a id='source_data_destination'></a>\n",
    "## 2 Source Data\n",
    "___\n",
    "\n",
    "The data are provided in different JSON files with the structures of:\n",
    "\n",
    "1. Businesses\n",
    "\n",
    "business_id | name | neighborhood | address | city | state | postal_cal | latitude | longitude | stars | review_count | is_open | categories | hours - Monday | hours - Tuesday | hours - Wednesday | hours - Thursday | hours - Friday | hours - Saturday | hours - Sunday | attributes - BikeParking | attributes - BusinessAcceptsCreditCards | attributes - BusinessParking | attributes - GoodForKids | attributes - HasTV | attributes - NoiseLevel | attributes - OutdoorSeating | attributes - RestaurantsAttire | attributes - RestaurantsDelivery | attributes - RestaurantsGoodForGroups | attributes - RestaurantsPriceRange2 | attributes - RestaurantsReservation | attributes - RestaurantsTakeOut\n",
    "--- | --- | --- | --- | --- | --- |--- | --- | --- |--- | --- | --- |--- | --- | --- | --- | --- | --- | --- | --- | --- | --- | --- | --- | --- | --- | --- | --- | --- | --- | --- | --- | --- | --- | --- | --- | --- | --- | --- | --- | --- | --- | --- | --- | --- | --- | --- | --- | --- | --- | --- | --- | --- | --- | --- | --- | --- | --- | --- | --- | --- | --- | --- | --- | --- | --- | --- | --- | --- | --- | --- | --- | --- | --- | --- | --- | --- | --- | --- | --- |\n",
    "Apn5Q_b6Nz61Tq4XzPdf9A | Minhas Micro Brewery | 1314 44 Avenue NE | Calgary | AB | T2E 6L6 | 51.0918130155 | -114.031674872 | 4 | 24 | 1 | Tours, Breweries, Pizza, Restaurants, Food, Hotels & Travel | 8:30-17:0 | 11:0-21:0 | 11:0-21:0 | 11:0-21:0 | 11:0-21:0 | 11:0-21:0 | | False | True | {'garage': False, 'street': True, 'validated': False, 'lot': False, 'valet': False} | True | True | average | False | casual | False | True | 2 | True | True \n",
    "\n",
    "2. Users\n",
    "\n",
    "user_id | name | review_count | yelping_since | friends | useful | funny | cool | fans | elite |  average_stars | compliment_hot | compliment_more | compliment_profile | compliment_cute | compliment_list | compliment_note | compliment_plain | compliment_cool | compliment_funny | compliment_writer | compliment_photos\n",
    "--- | --- | --- | --- | --- |--- | --- | --- | --- | --- | --- \n",
    "lzlZwIpuSWXEnNS91wxjHw | Susan | 1 | 2015-09-28 | None | 0 | 0 | 0 | 0 | None | 2 | 0 | 0 | 0 | 0 | 0 | 0 | 0 | 0 | 0 | 0 | 0 |\n",
    "\n",
    "3. Reviews\n",
    "\n",
    "review_id | user_id | business_id | stars | date | text | useful | funny | cool\n",
    "--- | --- | --- | --- | --- |--- | --- | --- | --- \n",
    "x7mDIiDB3jEiPGPHOmDzyw | msQe1u7Z_XuqjGoqhB0J5g | iCQpiavjjPzJ5_3gPD5Ebg | 2 | 2011-02-25 | The pizza was okay. Not the best I've had. I prefer Biaggio's on Flamingo / Fort Apache. The chef there can make a MUCH better NY style pizza. The pizzeria @ Cosmo was over priced for the quality and lack of personality in the food. Biaggio's is a much better pick if youre going for italian - family owned, home made recipes, people that actually CARE if you like their food. You dont get that at a pizzeria in a casino. I dont care what you say... | 0 | 0 | 0"
   ]
  },
  {
   "cell_type": "code",
   "execution_count": 454,
   "metadata": {},
   "outputs": [
    {
     "data": {
      "text/html": [
       "\n",
       "    <div class=\"bk-root\">\n",
       "        <a href=\"https://bokeh.pydata.org\" target=\"_blank\" class=\"bk-logo bk-logo-small bk-logo-notebook\"></a>\n",
       "        <span id=\"1092\">Loading BokehJS ...</span>\n",
       "    </div>"
      ]
     },
     "metadata": {},
     "output_type": "display_data"
    },
    {
     "data": {
      "application/javascript": [
       "\n",
       "(function(root) {\n",
       "  function now() {\n",
       "    return new Date();\n",
       "  }\n",
       "\n",
       "  var force = true;\n",
       "\n",
       "  if (typeof (root._bokeh_onload_callbacks) === \"undefined\" || force === true) {\n",
       "    root._bokeh_onload_callbacks = [];\n",
       "    root._bokeh_is_loading = undefined;\n",
       "  }\n",
       "\n",
       "  var JS_MIME_TYPE = 'application/javascript';\n",
       "  var HTML_MIME_TYPE = 'text/html';\n",
       "  var EXEC_MIME_TYPE = 'application/vnd.bokehjs_exec.v0+json';\n",
       "  var CLASS_NAME = 'output_bokeh rendered_html';\n",
       "\n",
       "  /**\n",
       "   * Render data to the DOM node\n",
       "   */\n",
       "  function render(props, node) {\n",
       "    var script = document.createElement(\"script\");\n",
       "    node.appendChild(script);\n",
       "  }\n",
       "\n",
       "  /**\n",
       "   * Handle when an output is cleared or removed\n",
       "   */\n",
       "  function handleClearOutput(event, handle) {\n",
       "    var cell = handle.cell;\n",
       "\n",
       "    var id = cell.output_area._bokeh_element_id;\n",
       "    var server_id = cell.output_area._bokeh_server_id;\n",
       "    // Clean up Bokeh references\n",
       "    if (id != null && id in Bokeh.index) {\n",
       "      Bokeh.index[id].model.document.clear();\n",
       "      delete Bokeh.index[id];\n",
       "    }\n",
       "\n",
       "    if (server_id !== undefined) {\n",
       "      // Clean up Bokeh references\n",
       "      var cmd = \"from bokeh.io.state import curstate; print(curstate().uuid_to_server['\" + server_id + \"'].get_sessions()[0].document.roots[0]._id)\";\n",
       "      cell.notebook.kernel.execute(cmd, {\n",
       "        iopub: {\n",
       "          output: function(msg) {\n",
       "            var id = msg.content.text.trim();\n",
       "            if (id in Bokeh.index) {\n",
       "              Bokeh.index[id].model.document.clear();\n",
       "              delete Bokeh.index[id];\n",
       "            }\n",
       "          }\n",
       "        }\n",
       "      });\n",
       "      // Destroy server and session\n",
       "      var cmd = \"import bokeh.io.notebook as ion; ion.destroy_server('\" + server_id + \"')\";\n",
       "      cell.notebook.kernel.execute(cmd);\n",
       "    }\n",
       "  }\n",
       "\n",
       "  /**\n",
       "   * Handle when a new output is added\n",
       "   */\n",
       "  function handleAddOutput(event, handle) {\n",
       "    var output_area = handle.output_area;\n",
       "    var output = handle.output;\n",
       "\n",
       "    // limit handleAddOutput to display_data with EXEC_MIME_TYPE content only\n",
       "    if ((output.output_type != \"display_data\") || (!output.data.hasOwnProperty(EXEC_MIME_TYPE))) {\n",
       "      return\n",
       "    }\n",
       "\n",
       "    var toinsert = output_area.element.find(\".\" + CLASS_NAME.split(' ')[0]);\n",
       "\n",
       "    if (output.metadata[EXEC_MIME_TYPE][\"id\"] !== undefined) {\n",
       "      toinsert[toinsert.length - 1].firstChild.textContent = output.data[JS_MIME_TYPE];\n",
       "      // store reference to embed id on output_area\n",
       "      output_area._bokeh_element_id = output.metadata[EXEC_MIME_TYPE][\"id\"];\n",
       "    }\n",
       "    if (output.metadata[EXEC_MIME_TYPE][\"server_id\"] !== undefined) {\n",
       "      var bk_div = document.createElement(\"div\");\n",
       "      bk_div.innerHTML = output.data[HTML_MIME_TYPE];\n",
       "      var script_attrs = bk_div.children[0].attributes;\n",
       "      for (var i = 0; i < script_attrs.length; i++) {\n",
       "        toinsert[toinsert.length - 1].firstChild.setAttribute(script_attrs[i].name, script_attrs[i].value);\n",
       "      }\n",
       "      // store reference to server id on output_area\n",
       "      output_area._bokeh_server_id = output.metadata[EXEC_MIME_TYPE][\"server_id\"];\n",
       "    }\n",
       "  }\n",
       "\n",
       "  function register_renderer(events, OutputArea) {\n",
       "\n",
       "    function append_mime(data, metadata, element) {\n",
       "      // create a DOM node to render to\n",
       "      var toinsert = this.create_output_subarea(\n",
       "        metadata,\n",
       "        CLASS_NAME,\n",
       "        EXEC_MIME_TYPE\n",
       "      );\n",
       "      this.keyboard_manager.register_events(toinsert);\n",
       "      // Render to node\n",
       "      var props = {data: data, metadata: metadata[EXEC_MIME_TYPE]};\n",
       "      render(props, toinsert[toinsert.length - 1]);\n",
       "      element.append(toinsert);\n",
       "      return toinsert\n",
       "    }\n",
       "\n",
       "    /* Handle when an output is cleared or removed */\n",
       "    events.on('clear_output.CodeCell', handleClearOutput);\n",
       "    events.on('delete.Cell', handleClearOutput);\n",
       "\n",
       "    /* Handle when a new output is added */\n",
       "    events.on('output_added.OutputArea', handleAddOutput);\n",
       "\n",
       "    /**\n",
       "     * Register the mime type and append_mime function with output_area\n",
       "     */\n",
       "    OutputArea.prototype.register_mime_type(EXEC_MIME_TYPE, append_mime, {\n",
       "      /* Is output safe? */\n",
       "      safe: true,\n",
       "      /* Index of renderer in `output_area.display_order` */\n",
       "      index: 0\n",
       "    });\n",
       "  }\n",
       "\n",
       "  // register the mime type if in Jupyter Notebook environment and previously unregistered\n",
       "  if (root.Jupyter !== undefined) {\n",
       "    var events = require('base/js/events');\n",
       "    var OutputArea = require('notebook/js/outputarea').OutputArea;\n",
       "\n",
       "    if (OutputArea.prototype.mime_types().indexOf(EXEC_MIME_TYPE) == -1) {\n",
       "      register_renderer(events, OutputArea);\n",
       "    }\n",
       "  }\n",
       "\n",
       "  \n",
       "  if (typeof (root._bokeh_timeout) === \"undefined\" || force === true) {\n",
       "    root._bokeh_timeout = Date.now() + 5000;\n",
       "    root._bokeh_failed_load = false;\n",
       "  }\n",
       "\n",
       "  var NB_LOAD_WARNING = {'data': {'text/html':\n",
       "     \"<div style='background-color: #fdd'>\\n\"+\n",
       "     \"<p>\\n\"+\n",
       "     \"BokehJS does not appear to have successfully loaded. If loading BokehJS from CDN, this \\n\"+\n",
       "     \"may be due to a slow or bad network connection. Possible fixes:\\n\"+\n",
       "     \"</p>\\n\"+\n",
       "     \"<ul>\\n\"+\n",
       "     \"<li>re-rerun `output_notebook()` to attempt to load from CDN again, or</li>\\n\"+\n",
       "     \"<li>use INLINE resources instead, as so:</li>\\n\"+\n",
       "     \"</ul>\\n\"+\n",
       "     \"<code>\\n\"+\n",
       "     \"from bokeh.resources import INLINE\\n\"+\n",
       "     \"output_notebook(resources=INLINE)\\n\"+\n",
       "     \"</code>\\n\"+\n",
       "     \"</div>\"}};\n",
       "\n",
       "  function display_loaded() {\n",
       "    var el = document.getElementById(\"1092\");\n",
       "    if (el != null) {\n",
       "      el.textContent = \"BokehJS is loading...\";\n",
       "    }\n",
       "    if (root.Bokeh !== undefined) {\n",
       "      if (el != null) {\n",
       "        el.textContent = \"BokehJS \" + root.Bokeh.version + \" successfully loaded.\";\n",
       "      }\n",
       "    } else if (Date.now() < root._bokeh_timeout) {\n",
       "      setTimeout(display_loaded, 100)\n",
       "    }\n",
       "  }\n",
       "\n",
       "\n",
       "  function run_callbacks() {\n",
       "    try {\n",
       "      root._bokeh_onload_callbacks.forEach(function(callback) { callback() });\n",
       "    }\n",
       "    finally {\n",
       "      delete root._bokeh_onload_callbacks\n",
       "    }\n",
       "    console.info(\"Bokeh: all callbacks have finished\");\n",
       "  }\n",
       "\n",
       "  function load_libs(js_urls, callback) {\n",
       "    root._bokeh_onload_callbacks.push(callback);\n",
       "    if (root._bokeh_is_loading > 0) {\n",
       "      console.log(\"Bokeh: BokehJS is being loaded, scheduling callback at\", now());\n",
       "      return null;\n",
       "    }\n",
       "    if (js_urls == null || js_urls.length === 0) {\n",
       "      run_callbacks();\n",
       "      return null;\n",
       "    }\n",
       "    console.log(\"Bokeh: BokehJS not loaded, scheduling load and callback at\", now());\n",
       "    root._bokeh_is_loading = js_urls.length;\n",
       "    for (var i = 0; i < js_urls.length; i++) {\n",
       "      var url = js_urls[i];\n",
       "      var s = document.createElement('script');\n",
       "      s.src = url;\n",
       "      s.async = false;\n",
       "      s.onreadystatechange = s.onload = function() {\n",
       "        root._bokeh_is_loading--;\n",
       "        if (root._bokeh_is_loading === 0) {\n",
       "          console.log(\"Bokeh: all BokehJS libraries loaded\");\n",
       "          run_callbacks()\n",
       "        }\n",
       "      };\n",
       "      s.onerror = function() {\n",
       "        console.warn(\"failed to load library \" + url);\n",
       "      };\n",
       "      console.log(\"Bokeh: injecting script tag for BokehJS library: \", url);\n",
       "      document.getElementsByTagName(\"head\")[0].appendChild(s);\n",
       "    }\n",
       "  };var element = document.getElementById(\"1092\");\n",
       "  if (element == null) {\n",
       "    console.log(\"Bokeh: ERROR: autoload.js configured with elementid '1092' but no matching script tag was found. \")\n",
       "    return false;\n",
       "  }\n",
       "\n",
       "  var js_urls = [\"https://cdn.pydata.org/bokeh/release/bokeh-1.0.2.min.js\", \"https://cdn.pydata.org/bokeh/release/bokeh-widgets-1.0.2.min.js\", \"https://cdn.pydata.org/bokeh/release/bokeh-tables-1.0.2.min.js\", \"https://cdn.pydata.org/bokeh/release/bokeh-gl-1.0.2.min.js\"];\n",
       "\n",
       "  var inline_js = [\n",
       "    function(Bokeh) {\n",
       "      Bokeh.set_log_level(\"info\");\n",
       "    },\n",
       "    \n",
       "    function(Bokeh) {\n",
       "      \n",
       "    },\n",
       "    function(Bokeh) {\n",
       "      console.log(\"Bokeh: injecting CSS: https://cdn.pydata.org/bokeh/release/bokeh-1.0.2.min.css\");\n",
       "      Bokeh.embed.inject_css(\"https://cdn.pydata.org/bokeh/release/bokeh-1.0.2.min.css\");\n",
       "      console.log(\"Bokeh: injecting CSS: https://cdn.pydata.org/bokeh/release/bokeh-widgets-1.0.2.min.css\");\n",
       "      Bokeh.embed.inject_css(\"https://cdn.pydata.org/bokeh/release/bokeh-widgets-1.0.2.min.css\");\n",
       "      console.log(\"Bokeh: injecting CSS: https://cdn.pydata.org/bokeh/release/bokeh-tables-1.0.2.min.css\");\n",
       "      Bokeh.embed.inject_css(\"https://cdn.pydata.org/bokeh/release/bokeh-tables-1.0.2.min.css\");\n",
       "    }\n",
       "  ];\n",
       "\n",
       "  function run_inline_js() {\n",
       "    \n",
       "    if ((root.Bokeh !== undefined) || (force === true)) {\n",
       "      for (var i = 0; i < inline_js.length; i++) {\n",
       "        inline_js[i].call(root, root.Bokeh);\n",
       "      }if (force === true) {\n",
       "        display_loaded();\n",
       "      }} else if (Date.now() < root._bokeh_timeout) {\n",
       "      setTimeout(run_inline_js, 100);\n",
       "    } else if (!root._bokeh_failed_load) {\n",
       "      console.log(\"Bokeh: BokehJS failed to load within specified timeout.\");\n",
       "      root._bokeh_failed_load = true;\n",
       "    } else if (force !== true) {\n",
       "      var cell = $(document.getElementById(\"1092\")).parents('.cell').data().cell;\n",
       "      cell.output_area.append_execute_result(NB_LOAD_WARNING)\n",
       "    }\n",
       "\n",
       "  }\n",
       "\n",
       "  if (root._bokeh_is_loading === 0) {\n",
       "    console.log(\"Bokeh: BokehJS loaded, going straight to plotting\");\n",
       "    run_inline_js();\n",
       "  } else {\n",
       "    load_libs(js_urls, function() {\n",
       "      console.log(\"Bokeh: BokehJS plotting callback run at\", now());\n",
       "      run_inline_js();\n",
       "    });\n",
       "  }\n",
       "}(window));"
      ],
      "application/vnd.bokehjs_load.v0+json": "\n(function(root) {\n  function now() {\n    return new Date();\n  }\n\n  var force = true;\n\n  if (typeof (root._bokeh_onload_callbacks) === \"undefined\" || force === true) {\n    root._bokeh_onload_callbacks = [];\n    root._bokeh_is_loading = undefined;\n  }\n\n  \n\n  \n  if (typeof (root._bokeh_timeout) === \"undefined\" || force === true) {\n    root._bokeh_timeout = Date.now() + 5000;\n    root._bokeh_failed_load = false;\n  }\n\n  var NB_LOAD_WARNING = {'data': {'text/html':\n     \"<div style='background-color: #fdd'>\\n\"+\n     \"<p>\\n\"+\n     \"BokehJS does not appear to have successfully loaded. If loading BokehJS from CDN, this \\n\"+\n     \"may be due to a slow or bad network connection. Possible fixes:\\n\"+\n     \"</p>\\n\"+\n     \"<ul>\\n\"+\n     \"<li>re-rerun `output_notebook()` to attempt to load from CDN again, or</li>\\n\"+\n     \"<li>use INLINE resources instead, as so:</li>\\n\"+\n     \"</ul>\\n\"+\n     \"<code>\\n\"+\n     \"from bokeh.resources import INLINE\\n\"+\n     \"output_notebook(resources=INLINE)\\n\"+\n     \"</code>\\n\"+\n     \"</div>\"}};\n\n  function display_loaded() {\n    var el = document.getElementById(\"1092\");\n    if (el != null) {\n      el.textContent = \"BokehJS is loading...\";\n    }\n    if (root.Bokeh !== undefined) {\n      if (el != null) {\n        el.textContent = \"BokehJS \" + root.Bokeh.version + \" successfully loaded.\";\n      }\n    } else if (Date.now() < root._bokeh_timeout) {\n      setTimeout(display_loaded, 100)\n    }\n  }\n\n\n  function run_callbacks() {\n    try {\n      root._bokeh_onload_callbacks.forEach(function(callback) { callback() });\n    }\n    finally {\n      delete root._bokeh_onload_callbacks\n    }\n    console.info(\"Bokeh: all callbacks have finished\");\n  }\n\n  function load_libs(js_urls, callback) {\n    root._bokeh_onload_callbacks.push(callback);\n    if (root._bokeh_is_loading > 0) {\n      console.log(\"Bokeh: BokehJS is being loaded, scheduling callback at\", now());\n      return null;\n    }\n    if (js_urls == null || js_urls.length === 0) {\n      run_callbacks();\n      return null;\n    }\n    console.log(\"Bokeh: BokehJS not loaded, scheduling load and callback at\", now());\n    root._bokeh_is_loading = js_urls.length;\n    for (var i = 0; i < js_urls.length; i++) {\n      var url = js_urls[i];\n      var s = document.createElement('script');\n      s.src = url;\n      s.async = false;\n      s.onreadystatechange = s.onload = function() {\n        root._bokeh_is_loading--;\n        if (root._bokeh_is_loading === 0) {\n          console.log(\"Bokeh: all BokehJS libraries loaded\");\n          run_callbacks()\n        }\n      };\n      s.onerror = function() {\n        console.warn(\"failed to load library \" + url);\n      };\n      console.log(\"Bokeh: injecting script tag for BokehJS library: \", url);\n      document.getElementsByTagName(\"head\")[0].appendChild(s);\n    }\n  };var element = document.getElementById(\"1092\");\n  if (element == null) {\n    console.log(\"Bokeh: ERROR: autoload.js configured with elementid '1092' but no matching script tag was found. \")\n    return false;\n  }\n\n  var js_urls = [\"https://cdn.pydata.org/bokeh/release/bokeh-1.0.2.min.js\", \"https://cdn.pydata.org/bokeh/release/bokeh-widgets-1.0.2.min.js\", \"https://cdn.pydata.org/bokeh/release/bokeh-tables-1.0.2.min.js\", \"https://cdn.pydata.org/bokeh/release/bokeh-gl-1.0.2.min.js\"];\n\n  var inline_js = [\n    function(Bokeh) {\n      Bokeh.set_log_level(\"info\");\n    },\n    \n    function(Bokeh) {\n      \n    },\n    function(Bokeh) {\n      console.log(\"Bokeh: injecting CSS: https://cdn.pydata.org/bokeh/release/bokeh-1.0.2.min.css\");\n      Bokeh.embed.inject_css(\"https://cdn.pydata.org/bokeh/release/bokeh-1.0.2.min.css\");\n      console.log(\"Bokeh: injecting CSS: https://cdn.pydata.org/bokeh/release/bokeh-widgets-1.0.2.min.css\");\n      Bokeh.embed.inject_css(\"https://cdn.pydata.org/bokeh/release/bokeh-widgets-1.0.2.min.css\");\n      console.log(\"Bokeh: injecting CSS: https://cdn.pydata.org/bokeh/release/bokeh-tables-1.0.2.min.css\");\n      Bokeh.embed.inject_css(\"https://cdn.pydata.org/bokeh/release/bokeh-tables-1.0.2.min.css\");\n    }\n  ];\n\n  function run_inline_js() {\n    \n    if ((root.Bokeh !== undefined) || (force === true)) {\n      for (var i = 0; i < inline_js.length; i++) {\n        inline_js[i].call(root, root.Bokeh);\n      }if (force === true) {\n        display_loaded();\n      }} else if (Date.now() < root._bokeh_timeout) {\n      setTimeout(run_inline_js, 100);\n    } else if (!root._bokeh_failed_load) {\n      console.log(\"Bokeh: BokehJS failed to load within specified timeout.\");\n      root._bokeh_failed_load = true;\n    } else if (force !== true) {\n      var cell = $(document.getElementById(\"1092\")).parents('.cell').data().cell;\n      cell.output_area.append_execute_result(NB_LOAD_WARNING)\n    }\n\n  }\n\n  if (root._bokeh_is_loading === 0) {\n    console.log(\"Bokeh: BokehJS loaded, going straight to plotting\");\n    run_inline_js();\n  } else {\n    load_libs(js_urls, function() {\n      console.log(\"Bokeh: BokehJS plotting callback run at\", now());\n      run_inline_js();\n    });\n  }\n}(window));"
     },
     "metadata": {},
     "output_type": "display_data"
    }
   ],
   "source": [
    "import numpy as np\n",
    "import pandas as pd\n",
    "import matplotlib.pyplot as plt\n",
    "import glob\n",
    "import json\n",
    "import seaborn as sns\n",
    "import string\n",
    "import scipy\n",
    "import requests\n",
    "from datetime import datetime\n",
    "from tqdm import tqdm\n",
    "\n",
    "from math import pi\n",
    "\n",
    "import bokeh\n",
    "from bokeh.io import output_file, show\n",
    "from bokeh.palettes import Category20c\n",
    "from bokeh.plotting import figure, show, output_notebook\n",
    "from bokeh.transform import cumsum\n",
    "\n",
    "import surprise\n",
    "from surprise import Reader, Dataset, SVD, SVDpp, KNNWithMeans, NMF\n",
    "from surprise.prediction_algorithms.co_clustering import CoClustering\n",
    "from surprise.model_selection import GridSearchCV\n",
    "from surprise.prediction_algorithms.baseline_only import BaselineOnly\n",
    "\n",
    "from sklearn.feature_extraction.text import CountVectorizer, TfidfVectorizer\n",
    "from sklearn.feature_extraction.stop_words import ENGLISH_STOP_WORDS\n",
    "from sklearn.model_selection import train_test_split\n",
    "from sklearn.decomposition import PCA\n",
    "from sklearn.base import TransformerMixin\n",
    "\n",
    "from sklearn.preprocessing import OneHotEncoder, MultiLabelBinarizer, StandardScaler\n",
    "from sklearn.pipeline import Pipeline\n",
    "\n",
    "from sklearn.linear_model import LinearRegression, LogisticRegression\n",
    "from sklearn.svm import LinearSVC\n",
    "from sklearn.cluster import KMeans, MiniBatchKMeans, DBSCAN\n",
    "\n",
    "from sklearn.metrics.pairwise import cosine_similarity, paired_cosine_distances\n",
    "from sklearn.metrics import accuracy_score\n",
    "\n",
    "import nltk\n",
    "from nltk.corpus import stopwords\n",
    "nltk.download('stopwords')\n",
    "\n",
    "! python -m spacy download en\n",
    "import spacy\n",
    "spacy.load('en')\n",
    "from spacy.lang.en import English\n",
    "parser = English()\n",
    "\n",
    "%matplotlib inline\n",
    "plt.style.use('fivethirtyeight')\n",
    "\n",
    "output_notebook()"
   ]
  },
  {
   "cell_type": "markdown",
   "metadata": {},
   "source": [
    "### 2-2 Loading Files\n",
    "\n",
    "The files are big hence I stored them in Google Storage and queried them over to this compute engine hosting my notebook server."
   ]
  },
  {
   "cell_type": "code",
   "execution_count": 2,
   "metadata": {},
   "outputs": [],
   "source": [
    "# Only run this once\n",
    "\n",
    "# !gsutil -m cp gs://staging.jl07-firstproj.appspot.com/data/yelp_academic_dataset_user.json /home/p_duongthai/capstone/data\n",
    "# !gsutil -m cp gs://staging.jl07-firstproj.appspot.com/data/yelp_academic_dataset_business.json /home/p_duongthai/capstone/data\n",
    "# !gsutil -m cp gs://staging.jl07-firstproj.appspot.com/data/yelp_academic_dataset_review.json /home/p_duongthai/capstone/data        "
   ]
  },
  {
   "cell_type": "markdown",
   "metadata": {},
   "source": [
    "<a id='getting_data_destination'></a>\n",
    "## 3 Getting Data\n",
    "___\n",
    "### 3-1 Getting a dictionary of cuisines"
   ]
  },
  {
   "cell_type": "markdown",
   "metadata": {},
   "source": [
    "#### Call Yelp Fusion API To Get Categories"
   ]
  },
  {
   "cell_type": "code",
   "execution_count": 3,
   "metadata": {},
   "outputs": [],
   "source": [
    "# API stuff\n",
    "key = 't6XLHJ_Kyeo6GZh4C-D6jM3czFtX5SB30kDvg9mLLFcUfrxeQrgRHVswfH7u7HIug-GogsFY_3m4MAS9K47VkSEmIRUysZ36P8EpMv9NB6EtW2WsWusVLMdv7hgEXHYx'\n",
    "\n",
    "client = 'mKtLQA7xq986f6W4ObeKjQ'\n",
    "\n",
    "api_host = 'https://api.yelp.com'\n",
    "category_path = '/v3/categories/{}'\n",
    "all_categories_path = '/v3/categories'\n",
    "\n",
    "url_params = {}\n",
    "all_url = f'{api_host}{all_categories_path}'\n",
    "\n",
    "headers = {\n",
    "    'Authorization': f'Bearer {key}',\n",
    "}\n",
    "\n",
    "yelp_response = requests.request('GET', all_url, headers=headers, params=url_params)\n",
    "\n",
    "categories_json = yelp_response.json()"
   ]
  },
  {
   "cell_type": "code",
   "execution_count": 4,
   "metadata": {},
   "outputs": [],
   "source": [
    "restaurants_dict = {}\n",
    "# we chose restaurant due to \"business knowledge\" --> restaurant categories look more like cuisine than food cats\n",
    "\n",
    "# loop first time to get level 1 cats under Restaurant tag\n",
    "for category in categories_json['categories']:\n",
    "    if 'restaurants' in category['parent_aliases']:\n",
    "        restaurants_dict.update({category['alias']:category['title']})\n",
    "        \n",
    "restaurants_l2_dict = {}        \n",
    "# loop second time to get level 2 for all cats under Restaurant tag\n",
    "# do this to simplify the nested categories\n",
    "\n",
    "for category in categories_json['categories']:\n",
    "    if len(category['parent_aliases'])>0 and set(category['parent_aliases']).issubset(list(restaurants_dict.keys())):\n",
    "#         restaurants_dict.update({category['alias']:category['title']})\n",
    "        restaurants_l2_dict.update({category['title']:category['parent_aliases']})"
   ]
  },
  {
   "cell_type": "markdown",
   "metadata": {},
   "source": [
    "### 3-2 Utility Functions"
   ]
  },
  {
   "cell_type": "code",
   "execution_count": 5,
   "metadata": {},
   "outputs": [],
   "source": [
    "def split_to_list(status):\n",
    "    if status == 'None' or status is None:\n",
    "        return []\n",
    "    else:\n",
    "        return [i.lstrip().strip() for i in status.split(',')]"
   ]
  },
  {
   "cell_type": "code",
   "execution_count": 6,
   "metadata": {},
   "outputs": [],
   "source": [
    "# custom function to check if a category is in prescribed list\n",
    "\n",
    "def is_food(res_categories):\n",
    "    \n",
    "    l1_cats_ls = []\n",
    "    \n",
    "    is_restaurant = False\n",
    "    is_cat_l1 = False\n",
    "    is_cat_l2 = False\n",
    "    # if it has the word Restaurants\n",
    "    if len(list(set(res_categories) & set(['Restaurants']))) >= 1:\n",
    "        is_restaurant = True\n",
    "    if len(list(set(res_categories) & set(list(restaurants_dict.values())))) >= 1:\n",
    "        is_cat_l1 = True\n",
    "    if len(list(set(res_categories) & set(list(restaurants_l2_dict.keys())))) >= 1:\n",
    "        is_cat_l2 = True\n",
    "        \n",
    "    # remember: purpose is to get all to level 1 of Restaurants hence l2 dict store l2 title + parent alias ~ l1 alias\n",
    "    if is_cat_l2:\n",
    "        for item in res_categories:\n",
    "            if restaurants_l2_dict.get(item,-1) != -1:\n",
    "                \n",
    "                l1_cats_ls.append(restaurants_dict.get(restaurants_l2_dict.get(item)[0])[0])\n",
    "    if is_cat_l1:\n",
    "        for item in res_categories:\n",
    "            # this take care of others L1 which may present in the tags as well\n",
    "            if (item not in l1_cats_ls) and (item in list(restaurants_dict.values())):\n",
    "                l1_cats_ls.append(item)\n",
    "    return l1_cats_ls if len(l1_cats_ls) != 0 else None"
   ]
  },
  {
   "cell_type": "markdown",
   "metadata": {},
   "source": [
    "### 3-3 Loading Data"
   ]
  },
  {
   "cell_type": "code",
   "execution_count": 7,
   "metadata": {},
   "outputs": [],
   "source": [
    "data_dir = 'data/'"
   ]
  },
  {
   "cell_type": "code",
   "execution_count": 8,
   "metadata": {},
   "outputs": [],
   "source": [
    "# reading reviews\n",
    "\n",
    "review_file = glob.glob(data_dir+'yelp_academic_dataset_review.json')\n",
    "reviews_ls = []\n",
    "\n",
    "with open(review_file[0]) as reviews_file:   \n",
    "    for line in reviews_file:\n",
    "        reviews_ls.append(json.loads(line))"
   ]
  },
  {
   "cell_type": "code",
   "execution_count": 9,
   "metadata": {},
   "outputs": [
    {
     "name": "stdout",
     "output_type": "stream",
     "text": [
      "Index(['business_id', 'cool', 'date', 'funny', 'review_id', 'stars', 'text',\n",
      "       'useful', 'user_id'],\n",
      "      dtype='object')\n"
     ]
    },
    {
     "data": {
      "text/plain": [
       "business_id    object\n",
       "cool            int64\n",
       "date           object\n",
       "funny           int64\n",
       "review_id      object\n",
       "stars           int64\n",
       "text           object\n",
       "useful          int64\n",
       "user_id        object\n",
       "dtype: object"
      ]
     },
     "metadata": {},
     "output_type": "display_data"
    },
    {
     "name": "stdout",
     "output_type": "stream",
     "text": [
      "(5996996, 9)\n"
     ]
    }
   ],
   "source": [
    "reviews_df = pd.DataFrame(reviews_ls)\n",
    "\n",
    "print(reviews_df.columns)\n",
    "display(reviews_df.dtypes)\n",
    "print(reviews_df.shape)"
   ]
  },
  {
   "cell_type": "code",
   "execution_count": 10,
   "metadata": {},
   "outputs": [],
   "source": [
    "# reading businesses from file\n",
    "\n",
    "businesses_file = glob.glob(data_dir+'yelp_academic_dataset_business.json')\n",
    "businesses_ls = []\n",
    "\n",
    "with open(businesses_file[0]) as businesses_file:   \n",
    "    for line in businesses_file:\n",
    "        businesses_ls.append(json.loads(line))"
   ]
  },
  {
   "cell_type": "code",
   "execution_count": 11,
   "metadata": {},
   "outputs": [
    {
     "name": "stdout",
     "output_type": "stream",
     "text": [
      "Index(['address', 'attributes', 'business_id', 'categories', 'city', 'hours',\n",
      "       'is_open', 'latitude', 'longitude', 'name', 'neighborhood',\n",
      "       'postal_code', 'review_count', 'stars', 'state'],\n",
      "      dtype='object')\n"
     ]
    },
    {
     "data": {
      "text/plain": [
       "address          object\n",
       "attributes       object\n",
       "business_id      object\n",
       "categories       object\n",
       "city             object\n",
       "hours            object\n",
       "is_open           int64\n",
       "latitude        float64\n",
       "longitude       float64\n",
       "name             object\n",
       "neighborhood     object\n",
       "postal_code      object\n",
       "review_count      int64\n",
       "stars           float64\n",
       "state            object\n",
       "dtype: object"
      ]
     },
     "metadata": {},
     "output_type": "display_data"
    },
    {
     "name": "stdout",
     "output_type": "stream",
     "text": [
      "(188593, 15)\n"
     ]
    }
   ],
   "source": [
    "businesses_df = pd.DataFrame(businesses_ls)\n",
    "\n",
    "print(businesses_df.columns)\n",
    "display(businesses_df.dtypes)\n",
    "print(businesses_df.shape)"
   ]
  },
  {
   "cell_type": "code",
   "execution_count": 12,
   "metadata": {},
   "outputs": [],
   "source": [
    "# reading user file\n",
    "\n",
    "users_file = glob.glob(data_dir+'yelp_academic_dataset_user.json')\n",
    "users_ls = []\n",
    "\n",
    "with open(users_file[0]) as users_file:   \n",
    "    for line in users_file:\n",
    "        users_ls.append(json.loads(line))"
   ]
  },
  {
   "cell_type": "code",
   "execution_count": 13,
   "metadata": {},
   "outputs": [
    {
     "name": "stdout",
     "output_type": "stream",
     "text": [
      "Index(['average_stars', 'compliment_cool', 'compliment_cute',\n",
      "       'compliment_funny', 'compliment_hot', 'compliment_list',\n",
      "       'compliment_more', 'compliment_note', 'compliment_photos',\n",
      "       'compliment_plain', 'compliment_profile', 'compliment_writer', 'cool',\n",
      "       'elite', 'fans', 'friends', 'funny', 'name', 'review_count', 'useful',\n",
      "       'user_id', 'yelping_since'],\n",
      "      dtype='object')\n"
     ]
    },
    {
     "data": {
      "text/plain": [
       "average_stars         float64\n",
       "compliment_cool         int64\n",
       "compliment_cute         int64\n",
       "compliment_funny        int64\n",
       "compliment_hot          int64\n",
       "compliment_list         int64\n",
       "compliment_more         int64\n",
       "compliment_note         int64\n",
       "compliment_photos       int64\n",
       "compliment_plain        int64\n",
       "compliment_profile      int64\n",
       "compliment_writer       int64\n",
       "cool                    int64\n",
       "elite                  object\n",
       "fans                    int64\n",
       "friends                object\n",
       "funny                   int64\n",
       "name                   object\n",
       "review_count            int64\n",
       "useful                  int64\n",
       "user_id                object\n",
       "yelping_since          object\n",
       "dtype: object"
      ]
     },
     "metadata": {},
     "output_type": "display_data"
    },
    {
     "name": "stdout",
     "output_type": "stream",
     "text": [
      "(1518169, 22)\n"
     ]
    }
   ],
   "source": [
    "users_df = pd.DataFrame(users_ls)\n",
    "\n",
    "print(users_df.columns)\n",
    "display(users_df.dtypes)\n",
    "print(users_df.shape)"
   ]
  },
  {
   "cell_type": "markdown",
   "metadata": {},
   "source": [
    "<a id='cleaning_data_destination'></a>\n",
    "# 4 Cleaning Data\n",
    "___"
   ]
  },
  {
   "cell_type": "code",
   "execution_count": 14,
   "metadata": {},
   "outputs": [
    {
     "data": {
      "text/plain": [
       "business_id    0\n",
       "cool           0\n",
       "date           0\n",
       "funny          0\n",
       "review_id      0\n",
       "stars          0\n",
       "text           0\n",
       "useful         0\n",
       "user_id        0\n",
       "dtype: int64"
      ]
     },
     "execution_count": 14,
     "metadata": {},
     "output_type": "execute_result"
    }
   ],
   "source": [
    "reviews_df.isnull().sum()"
   ]
  },
  {
   "cell_type": "code",
   "execution_count": 15,
   "metadata": {},
   "outputs": [],
   "source": [
    "# date in reviews_df needs to be converted to date type\n",
    "\n",
    "reviews_df['date']= pd.to_datetime(reviews_df['date'])"
   ]
  },
  {
   "cell_type": "code",
   "execution_count": 16,
   "metadata": {},
   "outputs": [
    {
     "name": "stderr",
     "output_type": "stream",
     "text": [
      "/home/p_duongthai/anaconda3/lib/python3.6/site-packages/matplotlib/scale.py:111: RuntimeWarning: invalid value encountered in less_equal\n",
      "  out[a <= 0] = -1000\n"
     ]
    },
    {
     "data": {
      "image/png": "[encoded data removed]",
      "text/plain": [
       "<matplotlib.figure.Figure at 0x7f9a0c106940>"
      ]
     },
     "metadata": {},
     "output_type": "display_data"
    }
   ],
   "source": [
    "ratings_classes, ratings_counts = np.unique(reviews_df['stars'].values,return_counts=True)\n",
    "\n",
    "sns.barplot(ratings_classes, ratings_counts)\n",
    "plt.yscale('log')\n",
    "plt.show()"
   ]
  },
  {
   "cell_type": "markdown",
   "metadata": {},
   "source": [
    "That's strange, there is only 1 review with 0 star. Let's remove that."
   ]
  },
  {
   "cell_type": "code",
   "execution_count": 17,
   "metadata": {},
   "outputs": [],
   "source": [
    "reviews_df.drop(reviews_df[reviews_df['stars']==0].index,inplace=True)"
   ]
  },
  {
   "cell_type": "code",
   "execution_count": 18,
   "metadata": {},
   "outputs": [
    {
     "data": {
      "text/plain": [
       "address             0\n",
       "attributes      25786\n",
       "business_id         0\n",
       "categories        541\n",
       "city                0\n",
       "hours           44802\n",
       "is_open             0\n",
       "latitude            6\n",
       "longitude           6\n",
       "name                0\n",
       "neighborhood        0\n",
       "postal_code         0\n",
       "review_count        0\n",
       "stars               0\n",
       "state               0\n",
       "dtype: int64"
      ]
     },
     "metadata": {},
     "output_type": "display_data"
    }
   ],
   "source": [
    "display(businesses_df.isnull().sum())"
   ]
  },
  {
   "cell_type": "markdown",
   "metadata": {},
   "source": [
    "The records with missing attributes or categories are most troublesome. Let's see what we can do about them."
   ]
  },
  {
   "cell_type": "code",
   "execution_count": 19,
   "metadata": {},
   "outputs": [
    {
     "name": "stdout",
     "output_type": "stream",
     "text": [
      "['Insurance, Financial Services'\n",
      " 'Financial Services, Check Cashing/Pay-day Loans, Title Loans'\n",
      " 'Fast Food, Burgers, Restaurants' ...\n",
      " 'Pet Groomers, Pets, Veterinarians, Pet Sitting, Pet Services'\n",
      " 'Auto Repair, Used Car Dealers, Automotive'\n",
      " \"Fashion, Women's Clothing, Accessories, Bridal, Shopping\"]\n"
     ]
    }
   ],
   "source": [
    "print(businesses_df[businesses_df['attributes'].isnull()]['categories'].unique())"
   ]
  },
  {
   "cell_type": "markdown",
   "metadata": {},
   "source": [
    "Look like there are some food-related businesses in the bunch so we can't drop these records! Given the large number of records, let's just remove those without categories instead!"
   ]
  },
  {
   "cell_type": "code",
   "execution_count": 20,
   "metadata": {},
   "outputs": [],
   "source": [
    "businesses_df.dropna(subset=['categories'], inplace=True)"
   ]
  },
  {
   "cell_type": "code",
   "execution_count": 21,
   "metadata": {},
   "outputs": [
    {
     "name": "stdout",
     "output_type": "stream",
     "text": [
      "average_stars         0\n",
      "compliment_cool       0\n",
      "compliment_cute       0\n",
      "compliment_funny      0\n",
      "compliment_hot        0\n",
      "compliment_list       0\n",
      "compliment_more       0\n",
      "compliment_note       0\n",
      "compliment_photos     0\n",
      "compliment_plain      0\n",
      "compliment_profile    0\n",
      "compliment_writer     0\n",
      "cool                  0\n",
      "elite                 0\n",
      "fans                  0\n",
      "friends               0\n",
      "funny                 0\n",
      "name                  0\n",
      "review_count          0\n",
      "useful                0\n",
      "user_id               0\n",
      "yelping_since         0\n",
      "dtype: int64\n"
     ]
    }
   ],
   "source": [
    "print(users_df.isnull().sum())"
   ]
  },
  {
   "cell_type": "markdown",
   "metadata": {},
   "source": [
    "<a id='eda_destination'></a>\n",
    "# 5 EDA\n",
    "___"
   ]
  },
  {
   "cell_type": "code",
   "execution_count": 22,
   "metadata": {},
   "outputs": [
    {
     "data": {
      "image/png": "[encoded data removed]",
      "text/plain": [
       "<matplotlib.figure.Figure at 0x7f9ab0549f60>"
      ]
     },
     "metadata": {},
     "output_type": "display_data"
    }
   ],
   "source": [
    "star_by_year_df = reviews_df.groupby([reviews_df['stars'],reviews_df['date'].dt.year]).count()[['review_id']]\n",
    "\n",
    "plt.figure(figsize=(20,10))\n",
    "for star in star_by_year_df.index.levels[0]:\n",
    "    star_df = star_by_year_df.loc[star]\n",
    "    sns.lineplot(x=star_df.index,y='review_id',data=star_df,label=f'No. reviews rated {star} star(s)')\n",
    "plt.legend(loc=0,prop={'size': 10})\n",
    "plt.xlabel('Review Year')\n",
    "plt.ylabel('No. of reviews')\n",
    "plt.title(f'Number of reviews over years')\n",
    "# plt.savefig(fname='reviews_year')\n",
    "plt.show()"
   ]
  },
  {
   "cell_type": "code",
   "execution_count": 23,
   "metadata": {},
   "outputs": [],
   "source": [
    "status_dict = {}\n",
    "for status in users_df['elite'].unique():\n",
    "    for stat in status.split(','):\n",
    "        if stat.lstrip().strip() in status_dict:\n",
    "            status_dict[stat.lstrip().strip()] += 1\n",
    "        else:\n",
    "            status_dict[stat.lstrip().strip()] = 1"
   ]
  },
  {
   "cell_type": "code",
   "execution_count": 24,
   "metadata": {},
   "outputs": [
    {
     "data": {
      "image/png": "[encoded data removed]",
      "text/plain": [
       "<matplotlib.figure.Figure at 0x7f9ab04f0f60>"
      ]
     },
     "metadata": {},
     "output_type": "display_data"
    }
   ],
   "source": [
    "plt.figure(figsize=(20,10))\n",
    "sns.lineplot(x=[*status_dict.keys()], y=[*status_dict.values()])\n",
    "plt.title('No. Elite Users Over Years')\n",
    "plt.xlabel('Year')\n",
    "plt.ylabel('No. Elite Users')\n",
    "plt.yscale('log')\n",
    "plt.show()"
   ]
  },
  {
   "cell_type": "markdown",
   "metadata": {},
   "source": [
    "On Yelp, to maintain an Elite status, an account has to actively engage with the platform: generate new review, leaves comments or reactions at other reviews, receiving reactions from other users. And the status is reviewed annually. As a user was continuously tagged as Elite, a new year would be added to his/her profile. Based on the number of times a year appeared in unique combinations, Yelp appears to garner most users during the 2012-2014 period and saw and steady decline ever since."
   ]
  },
  {
   "cell_type": "code",
   "execution_count": 25,
   "metadata": {},
   "outputs": [
    {
     "data": {
      "text/plain": [
       "0         Tours, Breweries, Pizza, Restaurants, Food, Ho...\n",
       "1         Chicken Wings, Burgers, Caterers, Street Vendo...\n",
       "2         Breakfast & Brunch, Restaurants, French, Sandw...\n",
       "3                             Insurance, Financial Services\n",
       "4         Home & Garden, Nurseries & Gardening, Shopping...\n",
       "5                                        Coffee & Tea, Food\n",
       "6                                            Food, Bakeries\n",
       "7                                         Restaurants, Thai\n",
       "8                                      Mexican, Restaurants\n",
       "9                     Flowers & Gifts, Gift Shops, Shopping\n",
       "10                                    Restaurants, Japanese\n",
       "11                      Cajun/Creole, Southern, Restaurants\n",
       "12        Bars, Sports Bars, Dive Bars, Burgers, Nightli...\n",
       "13           Restaurants, Pakistani, Indian, Middle Eastern\n",
       "14                                   Beauty & Spas, Barbers\n",
       "15                           Delis, Restaurants, Sandwiches\n",
       "16        Nightlife, Bars, American (Traditional), Tapas...\n",
       "17                     Shopping, Fashion, Department Stores\n",
       "18        Financial Services, Check Cashing/Pay-day Loan...\n",
       "19        American (Traditional), Food, Bakeries, Restau...\n",
       "20        Home Services, Masonry/Concrete, Professional ...\n",
       "21                          Fast Food, Burgers, Restaurants\n",
       "22        Nightlife, Bars, American (Traditional), Sport...\n",
       "23                             Food, Bakeries, Coffee & Tea\n",
       "24                                     Mexican, Restaurants\n",
       "25                                     Mexican, Restaurants\n",
       "26         Home Services, Home Automation, Security Systems\n",
       "27          Restaurants, Food, Canadian (New), Coffee & Tea\n",
       "28        Optometrists, Shopping, Eyewear & Opticians, H...\n",
       "29                                       Pizza, Restaurants\n",
       "                                ...                        \n",
       "188563                       Barbeque, Restaurants, Chinese\n",
       "188564                           Nail Salons, Beauty & Spas\n",
       "188565    Local Services, Professional Services, Carpet ...\n",
       "188566    Eyewear & Opticians, Leather Goods, Shopping, ...\n",
       "188567           Delis, Restaurants, American (Traditional)\n",
       "188568                         Self Storage, Local Services\n",
       "188569    Hair Stylists, Hair Extensions, Hair Salons, B...\n",
       "188570    Nightlife, Bars, Shopping, Tobacco Shops, Cock...\n",
       "188571                Chicken Wings, Fast Food, Restaurants\n",
       "188572             Beer Bar, Cocktail Bars, Nightlife, Bars\n",
       "188573                Performing Arts, Arts & Entertainment\n",
       "188574    Active Life, Arts & Entertainment, Nightlife, ...\n",
       "188575    Music & DVDs, Books, Mags, Music & Video, Shop...\n",
       "188576             Shopping, Hardware Stores, Home & Garden\n",
       "188577    American (Traditional), American (New), Restau...\n",
       "188578    Hair Removal, Eyebrow Services, Beauty & Spas,...\n",
       "188579    Banks & Credit Unions, Financial Services, Rea...\n",
       "188580    Kitchen & Bath, Building Supplies, Home Servic...\n",
       "188581    Pet Groomers, Pets, Veterinarians, Pet Sitting...\n",
       "188582    Automotive, Body Shops, Auto Repair, Oil Chang...\n",
       "188583    Beauty & Spas, Nail Salons, Active Life, Gyms,...\n",
       "188584    Beauty & Spas, Nail Salons, Hair Removal, Waxi...\n",
       "188585    Massage, Health & Medical, Yoga, Doulas, Activ...\n",
       "188586    Restaurants, Indian, Caterers, Event Planning ...\n",
       "188587            Auto Repair, Used Car Dealers, Automotive\n",
       "188588          Skin Care, Beauty & Spas, Day Spas, Massage\n",
       "188589    Fashion, Women's Clothing, Accessories, Bridal...\n",
       "188590    Mobile Phones, Shopping, Department Stores, Fo...\n",
       "188591    Event Planning & Services, Hotels & Travel, Ho...\n",
       "188592    Makeup Artists, Men's Clothing, Swimwear, Shop...\n",
       "Name: categories, Length: 188052, dtype: object"
      ]
     },
     "metadata": {},
     "output_type": "display_data"
    }
   ],
   "source": [
    "display(businesses_df.categories)"
   ]
  },
  {
   "cell_type": "code",
   "execution_count": 26,
   "metadata": {},
   "outputs": [
    {
     "data": {
      "text/html": [
       "<div>\n",
       "<style scoped>\n",
       "    .dataframe tbody tr th:only-of-type {\n",
       "        vertical-align: middle;\n",
       "    }\n",
       "\n",
       "    .dataframe tbody tr th {\n",
       "        vertical-align: top;\n",
       "    }\n",
       "\n",
       "    .dataframe thead th {\n",
       "        text-align: right;\n",
       "    }\n",
       "</style>\n",
       "<table border=\"1\" class=\"dataframe\">\n",
       "  <thead>\n",
       "    <tr style=\"text-align: right;\">\n",
       "      <th></th>\n",
       "      <th>category</th>\n",
       "      <th>frequency</th>\n",
       "    </tr>\n",
       "  </thead>\n",
       "  <tbody>\n",
       "    <tr>\n",
       "      <th>3</th>\n",
       "      <td>Restaurants</td>\n",
       "      <td>57173</td>\n",
       "    </tr>\n",
       "    <tr>\n",
       "      <th>21</th>\n",
       "      <td>Shopping</td>\n",
       "      <td>30231</td>\n",
       "    </tr>\n",
       "    <tr>\n",
       "      <th>4</th>\n",
       "      <td>Food</td>\n",
       "      <td>27118</td>\n",
       "    </tr>\n",
       "    <tr>\n",
       "      <th>41</th>\n",
       "      <td>Beauty &amp; Spas</td>\n",
       "      <td>18967</td>\n",
       "    </tr>\n",
       "    <tr>\n",
       "      <th>53</th>\n",
       "      <td>Home Services</td>\n",
       "      <td>18634</td>\n",
       "    </tr>\n",
       "    <tr>\n",
       "      <th>63</th>\n",
       "      <td>Health &amp; Medical</td>\n",
       "      <td>16157</td>\n",
       "    </tr>\n",
       "    <tr>\n",
       "      <th>22</th>\n",
       "      <td>Local Services</td>\n",
       "      <td>12906</td>\n",
       "    </tr>\n",
       "    <tr>\n",
       "      <th>23</th>\n",
       "      <td>Automotive</td>\n",
       "      <td>12656</td>\n",
       "    </tr>\n",
       "    <tr>\n",
       "      <th>37</th>\n",
       "      <td>Nightlife</td>\n",
       "      <td>12438</td>\n",
       "    </tr>\n",
       "    <tr>\n",
       "      <th>34</th>\n",
       "      <td>Bars</td>\n",
       "      <td>10853</td>\n",
       "    </tr>\n",
       "    <tr>\n",
       "      <th>12</th>\n",
       "      <td>Event Planning &amp; Services</td>\n",
       "      <td>9774</td>\n",
       "    </tr>\n",
       "    <tr>\n",
       "      <th>95</th>\n",
       "      <td>Active Life</td>\n",
       "      <td>9119</td>\n",
       "    </tr>\n",
       "    <tr>\n",
       "      <th>49</th>\n",
       "      <td>Fashion</td>\n",
       "      <td>7406</td>\n",
       "    </tr>\n",
       "    <tr>\n",
       "      <th>25</th>\n",
       "      <td>Coffee &amp; Tea</td>\n",
       "      <td>6936</td>\n",
       "    </tr>\n",
       "    <tr>\n",
       "      <th>15</th>\n",
       "      <td>Sandwiches</td>\n",
       "      <td>6912</td>\n",
       "    </tr>\n",
       "    <tr>\n",
       "      <th>70</th>\n",
       "      <td>Hair Salons</td>\n",
       "      <td>6825</td>\n",
       "    </tr>\n",
       "    <tr>\n",
       "      <th>57</th>\n",
       "      <td>Fast Food</td>\n",
       "      <td>6812</td>\n",
       "    </tr>\n",
       "    <tr>\n",
       "      <th>44</th>\n",
       "      <td>American (Traditional)</td>\n",
       "      <td>6659</td>\n",
       "    </tr>\n",
       "    <tr>\n",
       "      <th>2</th>\n",
       "      <td>Pizza</td>\n",
       "      <td>6603</td>\n",
       "    </tr>\n",
       "    <tr>\n",
       "      <th>19</th>\n",
       "      <td>Home &amp; Garden</td>\n",
       "      <td>6020</td>\n",
       "    </tr>\n",
       "    <tr>\n",
       "      <th>100</th>\n",
       "      <td>Auto Repair</td>\n",
       "      <td>5877</td>\n",
       "    </tr>\n",
       "    <tr>\n",
       "      <th>5</th>\n",
       "      <td>Hotels &amp; Travel</td>\n",
       "      <td>5808</td>\n",
       "    </tr>\n",
       "    <tr>\n",
       "      <th>120</th>\n",
       "      <td>Arts &amp; Entertainment</td>\n",
       "      <td>5794</td>\n",
       "    </tr>\n",
       "    <tr>\n",
       "      <th>55</th>\n",
       "      <td>Professional Services</td>\n",
       "      <td>5620</td>\n",
       "    </tr>\n",
       "    <tr>\n",
       "      <th>157</th>\n",
       "      <td>Doctors</td>\n",
       "      <td>5450</td>\n",
       "    </tr>\n",
       "    <tr>\n",
       "      <th>193</th>\n",
       "      <td>Real Estate</td>\n",
       "      <td>5295</td>\n",
       "    </tr>\n",
       "    <tr>\n",
       "      <th>7</th>\n",
       "      <td>Burgers</td>\n",
       "      <td>5126</td>\n",
       "    </tr>\n",
       "    <tr>\n",
       "      <th>13</th>\n",
       "      <td>Breakfast &amp; Brunch</td>\n",
       "      <td>5023</td>\n",
       "    </tr>\n",
       "    <tr>\n",
       "      <th>123</th>\n",
       "      <td>Nail Salons</td>\n",
       "      <td>4839</td>\n",
       "    </tr>\n",
       "    <tr>\n",
       "      <th>99</th>\n",
       "      <td>Fitness &amp; Instruction</td>\n",
       "      <td>4559</td>\n",
       "    </tr>\n",
       "    <tr>\n",
       "      <th>...</th>\n",
       "      <td>...</td>\n",
       "      <td>...</td>\n",
       "    </tr>\n",
       "    <tr>\n",
       "      <th>1164</th>\n",
       "      <td>Hainan</td>\n",
       "      <td>1</td>\n",
       "    </tr>\n",
       "    <tr>\n",
       "      <th>1162</th>\n",
       "      <td>Bulgarian</td>\n",
       "      <td>1</td>\n",
       "    </tr>\n",
       "    <tr>\n",
       "      <th>1184</th>\n",
       "      <td>Senegalese</td>\n",
       "      <td>1</td>\n",
       "    </tr>\n",
       "    <tr>\n",
       "      <th>1190</th>\n",
       "      <td>Halfway Houses</td>\n",
       "      <td>1</td>\n",
       "    </tr>\n",
       "    <tr>\n",
       "      <th>1144</th>\n",
       "      <td>Vocal Coach</td>\n",
       "      <td>1</td>\n",
       "    </tr>\n",
       "    <tr>\n",
       "      <th>1138</th>\n",
       "      <td>Outdoor Movies</td>\n",
       "      <td>1</td>\n",
       "    </tr>\n",
       "    <tr>\n",
       "      <th>1134</th>\n",
       "      <td>Pensions</td>\n",
       "      <td>1</td>\n",
       "    </tr>\n",
       "    <tr>\n",
       "      <th>1201</th>\n",
       "      <td>Hybrid Car Repair</td>\n",
       "      <td>1</td>\n",
       "    </tr>\n",
       "    <tr>\n",
       "      <th>1205</th>\n",
       "      <td>Entertainment Law</td>\n",
       "      <td>1</td>\n",
       "    </tr>\n",
       "    <tr>\n",
       "      <th>1105</th>\n",
       "      <td>Guamanian</td>\n",
       "      <td>1</td>\n",
       "    </tr>\n",
       "    <tr>\n",
       "      <th>1214</th>\n",
       "      <td>Customs Brokers</td>\n",
       "      <td>1</td>\n",
       "    </tr>\n",
       "    <tr>\n",
       "      <th>860</th>\n",
       "      <td>Eastern European</td>\n",
       "      <td>1</td>\n",
       "    </tr>\n",
       "    <tr>\n",
       "      <th>1216</th>\n",
       "      <td>Signature Cuisine</td>\n",
       "      <td>1</td>\n",
       "    </tr>\n",
       "    <tr>\n",
       "      <th>1096</th>\n",
       "      <td>Baguettes</td>\n",
       "      <td>1</td>\n",
       "    </tr>\n",
       "    <tr>\n",
       "      <th>1228</th>\n",
       "      <td>Game Meat</td>\n",
       "      <td>1</td>\n",
       "    </tr>\n",
       "    <tr>\n",
       "      <th>1240</th>\n",
       "      <td>Props</td>\n",
       "      <td>1</td>\n",
       "    </tr>\n",
       "    <tr>\n",
       "      <th>1241</th>\n",
       "      <td>Bike Parking</td>\n",
       "      <td>1</td>\n",
       "    </tr>\n",
       "    <tr>\n",
       "      <th>954</th>\n",
       "      <td>Milkshake Bars</td>\n",
       "      <td>1</td>\n",
       "    </tr>\n",
       "    <tr>\n",
       "      <th>1250</th>\n",
       "      <td>Czech/Slovakian</td>\n",
       "      <td>1</td>\n",
       "    </tr>\n",
       "    <tr>\n",
       "      <th>1252</th>\n",
       "      <td>Dialysis Clinics</td>\n",
       "      <td>1</td>\n",
       "    </tr>\n",
       "    <tr>\n",
       "      <th>1255</th>\n",
       "      <td>Rotisserie Chicken</td>\n",
       "      <td>1</td>\n",
       "    </tr>\n",
       "    <tr>\n",
       "      <th>1256</th>\n",
       "      <td>Minho</td>\n",
       "      <td>1</td>\n",
       "    </tr>\n",
       "    <tr>\n",
       "      <th>1257</th>\n",
       "      <td>Experiences</td>\n",
       "      <td>1</td>\n",
       "    </tr>\n",
       "    <tr>\n",
       "      <th>1261</th>\n",
       "      <td>Otologists</td>\n",
       "      <td>1</td>\n",
       "    </tr>\n",
       "    <tr>\n",
       "      <th>1262</th>\n",
       "      <td>Traditional Norwegian</td>\n",
       "      <td>1</td>\n",
       "    </tr>\n",
       "    <tr>\n",
       "      <th>1265</th>\n",
       "      <td>Sport Equipment Hire</td>\n",
       "      <td>1</td>\n",
       "    </tr>\n",
       "    <tr>\n",
       "      <th>1266</th>\n",
       "      <td>Ceremonial Clothing</td>\n",
       "      <td>1</td>\n",
       "    </tr>\n",
       "    <tr>\n",
       "      <th>1267</th>\n",
       "      <td>Tonkatsu</td>\n",
       "      <td>1</td>\n",
       "    </tr>\n",
       "    <tr>\n",
       "      <th>1268</th>\n",
       "      <td>Tempura</td>\n",
       "      <td>1</td>\n",
       "    </tr>\n",
       "    <tr>\n",
       "      <th>1304</th>\n",
       "      <td>Japanese Sweets</td>\n",
       "      <td>1</td>\n",
       "    </tr>\n",
       "  </tbody>\n",
       "</table>\n",
       "<p>1305 rows × 2 columns</p>\n",
       "</div>"
      ],
      "text/plain": [
       "                       category  frequency\n",
       "3                   Restaurants      57173\n",
       "21                     Shopping      30231\n",
       "4                          Food      27118\n",
       "41                Beauty & Spas      18967\n",
       "53                Home Services      18634\n",
       "63             Health & Medical      16157\n",
       "22               Local Services      12906\n",
       "23                   Automotive      12656\n",
       "37                    Nightlife      12438\n",
       "34                         Bars      10853\n",
       "12    Event Planning & Services       9774\n",
       "95                  Active Life       9119\n",
       "49                      Fashion       7406\n",
       "25                 Coffee & Tea       6936\n",
       "15                   Sandwiches       6912\n",
       "70                  Hair Salons       6825\n",
       "57                    Fast Food       6812\n",
       "44       American (Traditional)       6659\n",
       "2                         Pizza       6603\n",
       "19                Home & Garden       6020\n",
       "100                 Auto Repair       5877\n",
       "5               Hotels & Travel       5808\n",
       "120        Arts & Entertainment       5794\n",
       "55        Professional Services       5620\n",
       "157                     Doctors       5450\n",
       "193                 Real Estate       5295\n",
       "7                       Burgers       5126\n",
       "13           Breakfast & Brunch       5023\n",
       "123                 Nail Salons       4839\n",
       "99        Fitness & Instruction       4559\n",
       "...                         ...        ...\n",
       "1164                     Hainan          1\n",
       "1162                  Bulgarian          1\n",
       "1184                 Senegalese          1\n",
       "1190             Halfway Houses          1\n",
       "1144                Vocal Coach          1\n",
       "1138             Outdoor Movies          1\n",
       "1134                   Pensions          1\n",
       "1201          Hybrid Car Repair          1\n",
       "1205          Entertainment Law          1\n",
       "1105                  Guamanian          1\n",
       "1214            Customs Brokers          1\n",
       "860            Eastern European          1\n",
       "1216          Signature Cuisine          1\n",
       "1096                  Baguettes          1\n",
       "1228                  Game Meat          1\n",
       "1240                      Props          1\n",
       "1241               Bike Parking          1\n",
       "954              Milkshake Bars          1\n",
       "1250            Czech/Slovakian          1\n",
       "1252           Dialysis Clinics          1\n",
       "1255         Rotisserie Chicken          1\n",
       "1256                      Minho          1\n",
       "1257                Experiences          1\n",
       "1261                 Otologists          1\n",
       "1262      Traditional Norwegian          1\n",
       "1265       Sport Equipment Hire          1\n",
       "1266        Ceremonial Clothing          1\n",
       "1267                   Tonkatsu          1\n",
       "1268                    Tempura          1\n",
       "1304            Japanese Sweets          1\n",
       "\n",
       "[1305 rows x 2 columns]"
      ]
     },
     "execution_count": 26,
     "metadata": {},
     "output_type": "execute_result"
    }
   ],
   "source": [
    "businesses_df['categories_ls'] = list(map(split_to_list,businesses_df['categories']))\n",
    "\n",
    "categories_dict = {}\n",
    "for categories in businesses_df['categories_ls']:\n",
    "    for category in categories:\n",
    "        if category in categories_dict:\n",
    "            categories_dict[category] += 1\n",
    "        else:\n",
    "            categories_dict[category] = 1\n",
    "\n",
    "categories_keys = categories_dict.keys()\n",
    "categorie_dict_df = pd.DataFrame(list(zip(list(categories_keys),\n",
    "                                          list(categories_dict[i] for i in categories_keys))),\n",
    "                                 columns=['category','frequency'])\n",
    "\n",
    "categorie_dict_df.sort_values(by=('frequency'),ascending=False)"
   ]
  },
  {
   "cell_type": "markdown",
   "metadata": {},
   "source": [
    "I'm surprised that Yelp has a lot of businesses under Shopping or other categories and not entirely just restaurants!"
   ]
  },
  {
   "cell_type": "markdown",
   "metadata": {},
   "source": [
    "We first want to see if for each business, can one user_id only give 1 rating?"
   ]
  },
  {
   "cell_type": "code",
   "execution_count": 27,
   "metadata": {},
   "outputs": [],
   "source": [
    "reviews_inter_cnt_df = reviews_df[['business_id','user_id','review_id']].groupby(by=['user_id','business_id']).review_id.count()\n",
    "reviews_dup = reviews_inter_cnt_df[reviews_inter_cnt_df>1].index.tolist()"
   ]
  },
  {
   "cell_type": "code",
   "execution_count": 28,
   "metadata": {},
   "outputs": [
    {
     "data": {
      "text/html": [
       "<div>\n",
       "<style scoped>\n",
       "    .dataframe tbody tr th:only-of-type {\n",
       "        vertical-align: middle;\n",
       "    }\n",
       "\n",
       "    .dataframe tbody tr th {\n",
       "        vertical-align: top;\n",
       "    }\n",
       "\n",
       "    .dataframe thead th {\n",
       "        text-align: right;\n",
       "    }\n",
       "</style>\n",
       "<table border=\"1\" class=\"dataframe\">\n",
       "  <thead>\n",
       "    <tr style=\"text-align: right;\">\n",
       "      <th></th>\n",
       "      <th>business_id</th>\n",
       "      <th>cool</th>\n",
       "      <th>date</th>\n",
       "      <th>funny</th>\n",
       "      <th>review_id</th>\n",
       "      <th>stars</th>\n",
       "      <th>text</th>\n",
       "      <th>useful</th>\n",
       "      <th>user_id</th>\n",
       "    </tr>\n",
       "  </thead>\n",
       "  <tbody>\n",
       "    <tr>\n",
       "      <th>4591943</th>\n",
       "      <td>V_oOjMVRXnr_t_9i1CSivw</td>\n",
       "      <td>0</td>\n",
       "      <td>2016-08-26</td>\n",
       "      <td>0</td>\n",
       "      <td>I8v-5jfkBluyN5kT8ha0bA</td>\n",
       "      <td>5</td>\n",
       "      <td>I had someone give me a facial and ruined my f...</td>\n",
       "      <td>0</td>\n",
       "      <td>8GpM-QUlb0V9DP56Xse3EA</td>\n",
       "    </tr>\n",
       "    <tr>\n",
       "      <th>4591944</th>\n",
       "      <td>V_oOjMVRXnr_t_9i1CSivw</td>\n",
       "      <td>0</td>\n",
       "      <td>2016-07-09</td>\n",
       "      <td>1</td>\n",
       "      <td>6vc4tqVh9_tbMRtFeS4pIw</td>\n",
       "      <td>5</td>\n",
       "      <td>I had someone give me a facial and ruined my f...</td>\n",
       "      <td>2</td>\n",
       "      <td>8GpM-QUlb0V9DP56Xse3EA</td>\n",
       "    </tr>\n",
       "  </tbody>\n",
       "</table>\n",
       "</div>"
      ],
      "text/plain": [
       "                    business_id  cool       date  funny  \\\n",
       "4591943  V_oOjMVRXnr_t_9i1CSivw     0 2016-08-26      0   \n",
       "4591944  V_oOjMVRXnr_t_9i1CSivw     0 2016-07-09      1   \n",
       "\n",
       "                      review_id  stars  \\\n",
       "4591943  I8v-5jfkBluyN5kT8ha0bA      5   \n",
       "4591944  6vc4tqVh9_tbMRtFeS4pIw      5   \n",
       "\n",
       "                                                      text  useful  \\\n",
       "4591943  I had someone give me a facial and ruined my f...       0   \n",
       "4591944  I had someone give me a facial and ruined my f...       2   \n",
       "\n",
       "                        user_id  \n",
       "4591943  8GpM-QUlb0V9DP56Xse3EA  \n",
       "4591944  8GpM-QUlb0V9DP56Xse3EA  "
      ]
     },
     "metadata": {},
     "output_type": "display_data"
    },
    {
     "data": {
      "text/html": [
       "<div>\n",
       "<style scoped>\n",
       "    .dataframe tbody tr th:only-of-type {\n",
       "        vertical-align: middle;\n",
       "    }\n",
       "\n",
       "    .dataframe tbody tr th {\n",
       "        vertical-align: top;\n",
       "    }\n",
       "\n",
       "    .dataframe thead th {\n",
       "        text-align: right;\n",
       "    }\n",
       "</style>\n",
       "<table border=\"1\" class=\"dataframe\">\n",
       "  <thead>\n",
       "    <tr style=\"text-align: right;\">\n",
       "      <th></th>\n",
       "      <th>business_id</th>\n",
       "      <th>cool</th>\n",
       "      <th>date</th>\n",
       "      <th>funny</th>\n",
       "      <th>review_id</th>\n",
       "      <th>stars</th>\n",
       "      <th>text</th>\n",
       "      <th>useful</th>\n",
       "      <th>user_id</th>\n",
       "    </tr>\n",
       "  </thead>\n",
       "  <tbody>\n",
       "    <tr>\n",
       "      <th>2055037</th>\n",
       "      <td>xKQVtEWiPK6hq0DljVnAfg</td>\n",
       "      <td>0</td>\n",
       "      <td>2017-05-02</td>\n",
       "      <td>0</td>\n",
       "      <td>1l-mU-BwQsZRW7BKdHVwZw</td>\n",
       "      <td>1</td>\n",
       "      <td>This place continues to be a shit hole, with P...</td>\n",
       "      <td>0</td>\n",
       "      <td>XNzChtoNOw706kps82x0Kg</td>\n",
       "    </tr>\n",
       "    <tr>\n",
       "      <th>2055038</th>\n",
       "      <td>xKQVtEWiPK6hq0DljVnAfg</td>\n",
       "      <td>0</td>\n",
       "      <td>2015-02-06</td>\n",
       "      <td>0</td>\n",
       "      <td>IcpPtd37iJEthZybuasS4g</td>\n",
       "      <td>1</td>\n",
       "      <td>My mother recently spent a good deal of time i...</td>\n",
       "      <td>8</td>\n",
       "      <td>XNzChtoNOw706kps82x0Kg</td>\n",
       "    </tr>\n",
       "  </tbody>\n",
       "</table>\n",
       "</div>"
      ],
      "text/plain": [
       "                    business_id  cool       date  funny  \\\n",
       "2055037  xKQVtEWiPK6hq0DljVnAfg     0 2017-05-02      0   \n",
       "2055038  xKQVtEWiPK6hq0DljVnAfg     0 2015-02-06      0   \n",
       "\n",
       "                      review_id  stars  \\\n",
       "2055037  1l-mU-BwQsZRW7BKdHVwZw      1   \n",
       "2055038  IcpPtd37iJEthZybuasS4g      1   \n",
       "\n",
       "                                                      text  useful  \\\n",
       "2055037  This place continues to be a shit hole, with P...       0   \n",
       "2055038  My mother recently spent a good deal of time i...       8   \n",
       "\n",
       "                        user_id  \n",
       "2055037  XNzChtoNOw706kps82x0Kg  \n",
       "2055038  XNzChtoNOw706kps82x0Kg  "
      ]
     },
     "metadata": {},
     "output_type": "display_data"
    },
    {
     "data": {
      "text/html": [
       "<div>\n",
       "<style scoped>\n",
       "    .dataframe tbody tr th:only-of-type {\n",
       "        vertical-align: middle;\n",
       "    }\n",
       "\n",
       "    .dataframe tbody tr th {\n",
       "        vertical-align: top;\n",
       "    }\n",
       "\n",
       "    .dataframe thead th {\n",
       "        text-align: right;\n",
       "    }\n",
       "</style>\n",
       "<table border=\"1\" class=\"dataframe\">\n",
       "  <thead>\n",
       "    <tr style=\"text-align: right;\">\n",
       "      <th></th>\n",
       "      <th>business_id</th>\n",
       "      <th>cool</th>\n",
       "      <th>date</th>\n",
       "      <th>funny</th>\n",
       "      <th>review_id</th>\n",
       "      <th>stars</th>\n",
       "      <th>text</th>\n",
       "      <th>useful</th>\n",
       "      <th>user_id</th>\n",
       "    </tr>\n",
       "  </thead>\n",
       "  <tbody>\n",
       "    <tr>\n",
       "      <th>5154279</th>\n",
       "      <td>7MacgLhLGiXvZoZdhgeKPw</td>\n",
       "      <td>1</td>\n",
       "      <td>2017-06-03</td>\n",
       "      <td>0</td>\n",
       "      <td>HFgn9Wz2jydIZLtqUeGu0Q</td>\n",
       "      <td>5</td>\n",
       "      <td>I always stop by DFEF for my morning fix every...</td>\n",
       "      <td>0</td>\n",
       "      <td>lLF9x4I41LFFKa_FX-lkbQ</td>\n",
       "    </tr>\n",
       "    <tr>\n",
       "      <th>5154280</th>\n",
       "      <td>7MacgLhLGiXvZoZdhgeKPw</td>\n",
       "      <td>0</td>\n",
       "      <td>2017-01-03</td>\n",
       "      <td>0</td>\n",
       "      <td>HR1JWyemX-kmNFaQ5LxR2g</td>\n",
       "      <td>5</td>\n",
       "      <td>I always stop by DFEF for my morning fix every...</td>\n",
       "      <td>1</td>\n",
       "      <td>lLF9x4I41LFFKa_FX-lkbQ</td>\n",
       "    </tr>\n",
       "  </tbody>\n",
       "</table>\n",
       "</div>"
      ],
      "text/plain": [
       "                    business_id  cool       date  funny  \\\n",
       "5154279  7MacgLhLGiXvZoZdhgeKPw     1 2017-06-03      0   \n",
       "5154280  7MacgLhLGiXvZoZdhgeKPw     0 2017-01-03      0   \n",
       "\n",
       "                      review_id  stars  \\\n",
       "5154279  HFgn9Wz2jydIZLtqUeGu0Q      5   \n",
       "5154280  HR1JWyemX-kmNFaQ5LxR2g      5   \n",
       "\n",
       "                                                      text  useful  \\\n",
       "5154279  I always stop by DFEF for my morning fix every...       0   \n",
       "5154280  I always stop by DFEF for my morning fix every...       1   \n",
       "\n",
       "                        user_id  \n",
       "5154279  lLF9x4I41LFFKa_FX-lkbQ  \n",
       "5154280  lLF9x4I41LFFKa_FX-lkbQ  "
      ]
     },
     "metadata": {},
     "output_type": "display_data"
    }
   ],
   "source": [
    "for item in reviews_dup:\n",
    "    display(reviews_df[(reviews_df['user_id']==item[0]) & (reviews_df['business_id']==item[1])])"
   ]
  },
  {
   "cell_type": "markdown",
   "metadata": {},
   "source": [
    "These reviews seem to be updated reviews (surprisingly). To take care of these very minor scenarios, we can take the latest of the timestamp columns)."
   ]
  },
  {
   "cell_type": "code",
   "execution_count": 29,
   "metadata": {},
   "outputs": [
    {
     "name": "stdout",
     "output_type": "stream",
     "text": [
      "(5996992, 9)\n"
     ]
    }
   ],
   "source": [
    "reviews_df = reviews_df[reviews_df.groupby(by=['user_id','business_id'])['date'].transform(max) == reviews_df['date']]\n",
    "\n",
    "print(reviews_df.shape)\n",
    "\n",
    "no_total_reviews = reviews_df.shape[0]"
   ]
  },
  {
   "cell_type": "markdown",
   "metadata": {},
   "source": [
    "## 5-1 Understanding Restaurants' Categories"
   ]
  },
  {
   "cell_type": "markdown",
   "metadata": {},
   "source": [
    "My premise is only modelling restaurants and will utilize cuisines. Looking at the values of categories under Food and Restaurant, only those under Restaurant are cuisine-like (Food values look more like dishes). Additionally, there are nested levels for categories in Restaurant as well. We need to find a way to untangle them.\n",
    "\n",
    "For the simplicity of analysis, I will only take a look at first sub-category and convert those values at second sub-category level into their parents."
   ]
  },
  {
   "cell_type": "code",
   "execution_count": 30,
   "metadata": {},
   "outputs": [],
   "source": [
    "# let's apply our utility function to distill the food-only categories\n",
    "\n",
    "businesses_df['simplify_cats'] = list(map(is_food,businesses_df['categories_ls']))\n",
    "\n",
    "# after this, we will \n",
    "\n",
    "restaurants_df = businesses_df[~businesses_df['simplify_cats'].isnull()]"
   ]
  },
  {
   "cell_type": "code",
   "execution_count": 31,
   "metadata": {},
   "outputs": [
    {
     "name": "stdout",
     "output_type": "stream",
     "text": [
      "56281\n"
     ]
    }
   ],
   "source": [
    "print(len(restaurants_df))"
   ]
  },
  {
   "cell_type": "code",
   "execution_count": 32,
   "metadata": {},
   "outputs": [
    {
     "name": "stderr",
     "output_type": "stream",
     "text": [
      "/home/p_duongthai/anaconda3/lib/python3.6/site-packages/ipykernel_launcher.py:5: SettingWithCopyWarning: \n",
      "A value is trying to be set on a copy of a slice from a DataFrame.\n",
      "Try using .loc[row_indexer,col_indexer] = value instead\n",
      "\n",
      "See the caveats in the documentation: http://pandas.pydata.org/pandas-docs/stable/indexing.html#indexing-view-versus-copy\n",
      "  \"\"\"\n"
     ]
    },
    {
     "name": "stdout",
     "output_type": "stream",
     "text": [
      "(3622981, 12)\n"
     ]
    },
    {
     "name": "stderr",
     "output_type": "stream",
     "text": [
      "/home/p_duongthai/anaconda3/lib/python3.6/site-packages/ipykernel_launcher.py:7: SettingWithCopyWarning: \n",
      "A value is trying to be set on a copy of a slice from a DataFrame.\n",
      "Try using .loc[row_indexer,col_indexer] = value instead\n",
      "\n",
      "See the caveats in the documentation: http://pandas.pydata.org/pandas-docs/stable/indexing.html#indexing-view-versus-copy\n",
      "  import sys\n"
     ]
    }
   ],
   "source": [
    "reviews_food_only_df = reviews_df.merge(restaurants_df[['business_id','name']], on=['business_id'], how='left')\n",
    "\n",
    "reviews_df = reviews_food_only_df[~reviews_food_only_df['name'].isnull()]\n",
    "\n",
    "reviews_df['review_year'] = reviews_df['date'].dt.year\n",
    "\n",
    "reviews_df['review_month'] = reviews_df['date'].dt.year\n",
    "\n",
    "print(reviews_df.shape)\n",
    "no_cuisine_reviews = reviews_df.shape[0]"
   ]
  },
  {
   "cell_type": "markdown",
   "metadata": {},
   "source": [
    "Awesome, we managed to remove the three cases we identified above!"
   ]
  },
  {
   "cell_type": "code",
   "execution_count": 33,
   "metadata": {
    "scrolled": true
   },
   "outputs": [
    {
     "data": {
      "image/png": "[encoded data removed]",
      "text/plain": [
       "<matplotlib.figure.Figure at 0x7f9abb876f98>"
      ]
     },
     "metadata": {},
     "output_type": "display_data"
    }
   ],
   "source": [
    "sns.barplot(reviews_df.groupby('stars').count()['review_id'].index,reviews_df.groupby('stars').count()['review_id'].values)\n",
    "plt.title(\"Number of reviews for each star rating\")\n",
    "plt.xlabel('Star Rating')\n",
    "plt.ylabel(\"No. Reviews\")\n",
    "plt.show()"
   ]
  },
  {
   "cell_type": "markdown",
   "metadata": {},
   "source": [
    "The set has an imbalanced no. reviews for 5-star rated records."
   ]
  },
  {
   "cell_type": "code",
   "execution_count": 34,
   "metadata": {},
   "outputs": [
    {
     "data": {
      "text/html": [
       "\n",
       "\n",
       "\n",
       "\n",
       "\n",
       "\n",
       "  <div class=\"bk-root\" id=\"6f0e04ec-1a88-42cc-bf76-1f7b52716b3f\"></div>\n"
      ]
     },
     "metadata": {},
     "output_type": "display_data"
    },
    {
     "data": {
      "application/javascript": [
       "(function(root) {\n",
       "  function embed_document(root) {\n",
       "    \n",
       "  var docs_json = {\"688cfe5e-e6b0-4982-8f73-f42fbb493a1a\":{\"roots\":{\"references\":[{\"attributes\":{\"below\":[{\"id\":\"1013\",\"type\":\"LinearAxis\"}],\"left\":[{\"id\":\"1018\",\"type\":\"LinearAxis\"}],\"plot_height\":350,\"renderers\":[{\"id\":\"1013\",\"type\":\"LinearAxis\"},{\"id\":\"1017\",\"type\":\"Grid\"},{\"id\":\"1018\",\"type\":\"LinearAxis\"},{\"id\":\"1022\",\"type\":\"Grid\"},{\"id\":\"1039\",\"type\":\"Legend\"},{\"id\":\"1032\",\"type\":\"GlyphRenderer\"}],\"title\":{\"id\":\"1002\",\"type\":\"Title\"},\"toolbar\":{\"id\":\"1024\",\"type\":\"Toolbar\"},\"toolbar_location\":null,\"x_range\":{\"id\":\"1005\",\"type\":\"Range1d\"},\"x_scale\":{\"id\":\"1009\",\"type\":\"LinearScale\"},\"y_range\":{\"id\":\"1007\",\"type\":\"DataRange1d\"},\"y_scale\":{\"id\":\"1011\",\"type\":\"LinearScale\"}},\"id\":\"1003\",\"subtype\":\"Figure\",\"type\":\"Plot\"},{\"attributes\":{},\"id\":\"1009\",\"type\":\"LinearScale\"},{\"attributes\":{},\"id\":\"1047\",\"type\":\"UnionRenderers\"},{\"attributes\":{},\"id\":\"1011\",\"type\":\"LinearScale\"},{\"attributes\":{\"callback\":null},\"id\":\"1007\",\"type\":\"DataRange1d\"},{\"attributes\":{\"field\":\"angle\",\"include_zero\":true},\"id\":\"1026\",\"type\":\"CumSum\"},{\"attributes\":{\"callback\":null,\"start\":-0.5},\"id\":\"1005\",\"type\":\"Range1d\"},{\"attributes\":{\"callback\":null,\"tooltips\":\"@review_type: @value\"},\"id\":\"1023\",\"type\":\"HoverTool\"},{\"attributes\":{\"field\":\"angle\"},\"id\":\"1027\",\"type\":\"CumSum\"},{\"attributes\":{\"axis_label\":null,\"formatter\":{\"id\":\"1035\",\"type\":\"BasicTickFormatter\"},\"plot\":{\"id\":\"1003\",\"subtype\":\"Figure\",\"type\":\"Plot\"},\"ticker\":{\"id\":\"1014\",\"type\":\"BasicTicker\"},\"visible\":false},\"id\":\"1013\",\"type\":\"LinearAxis\"},{\"attributes\":{\"plot\":null,\"text\":\"Pie Chart - Number of reviews\"},\"id\":\"1002\",\"type\":\"Title\"},{\"attributes\":{\"grid_line_color\":{\"value\":null},\"plot\":{\"id\":\"1003\",\"subtype\":\"Figure\",\"type\":\"Plot\"},\"ticker\":{\"id\":\"1014\",\"type\":\"BasicTicker\"}},\"id\":\"1017\",\"type\":\"Grid\"},{\"attributes\":{\"callback\":null,\"data\":{\"angle\":{\"__ndarray__\":\"cuvaPvZdDkC+bq1pAOYDQA==\",\"dtype\":\"float64\",\"shape\":[2]},\"color\":[\"coral\",\"royalblue\"],\"index\":[0,1],\"review_type\":[\"Cuisine-Related Reviews\",\"Other Reviews\"],\"value\":[3622981,2374011]},\"selected\":{\"id\":\"1046\",\"type\":\"Selection\"},\"selection_policy\":{\"id\":\"1047\",\"type\":\"UnionRenderers\"}},\"id\":\"1028\",\"type\":\"ColumnDataSource\"},{\"attributes\":{\"items\":[{\"id\":\"1040\",\"type\":\"LegendItem\"}],\"plot\":{\"id\":\"1003\",\"subtype\":\"Figure\",\"type\":\"Plot\"}},\"id\":\"1039\",\"type\":\"Legend\"},{\"attributes\":{\"axis_label\":null,\"formatter\":{\"id\":\"1037\",\"type\":\"BasicTickFormatter\"},\"plot\":{\"id\":\"1003\",\"subtype\":\"Figure\",\"type\":\"Plot\"},\"ticker\":{\"id\":\"1019\",\"type\":\"BasicTicker\"},\"visible\":false},\"id\":\"1018\",\"type\":\"LinearAxis\"},{\"attributes\":{},\"id\":\"1019\",\"type\":\"BasicTicker\"},{\"attributes\":{\"data_source\":{\"id\":\"1028\",\"type\":\"ColumnDataSource\"},\"glyph\":{\"id\":\"1030\",\"type\":\"Wedge\"},\"hover_glyph\":null,\"muted_glyph\":null,\"nonselection_glyph\":{\"id\":\"1031\",\"type\":\"Wedge\"},\"selection_glyph\":null,\"view\":{\"id\":\"1033\",\"type\":\"CDSView\"}},\"id\":\"1032\",\"type\":\"GlyphRenderer\"},{\"attributes\":{},\"id\":\"1035\",\"type\":\"BasicTickFormatter\"},{\"attributes\":{\"dimension\":1,\"grid_line_color\":{\"value\":null},\"plot\":{\"id\":\"1003\",\"subtype\":\"Figure\",\"type\":\"Plot\"},\"ticker\":{\"id\":\"1019\",\"type\":\"BasicTicker\"}},\"id\":\"1022\",\"type\":\"Grid\"},{\"attributes\":{\"active_drag\":\"auto\",\"active_inspect\":\"auto\",\"active_multi\":null,\"active_scroll\":\"auto\",\"active_tap\":\"auto\",\"tools\":[{\"id\":\"1023\",\"type\":\"HoverTool\"}]},\"id\":\"1024\",\"type\":\"Toolbar\"},{\"attributes\":{\"end_angle\":{\"expr\":{\"id\":\"1027\",\"type\":\"CumSum\"},\"units\":\"rad\"},\"fill_alpha\":{\"value\":0.1},\"fill_color\":{\"value\":\"#1f77b4\"},\"line_alpha\":{\"value\":0.1},\"line_color\":{\"value\":\"#1f77b4\"},\"radius\":{\"units\":\"data\",\"value\":0.4},\"start_angle\":{\"expr\":{\"id\":\"1026\",\"type\":\"CumSum\"},\"units\":\"rad\"},\"x\":{\"value\":0},\"y\":{\"value\":1}},\"id\":\"1031\",\"type\":\"Wedge\"},{\"attributes\":{},\"id\":\"1014\",\"type\":\"BasicTicker\"},{\"attributes\":{\"end_angle\":{\"expr\":{\"id\":\"1027\",\"type\":\"CumSum\"},\"units\":\"rad\"},\"fill_color\":{\"field\":\"color\"},\"line_color\":{\"value\":\"white\"},\"radius\":{\"units\":\"data\",\"value\":0.4},\"start_angle\":{\"expr\":{\"id\":\"1026\",\"type\":\"CumSum\"},\"units\":\"rad\"},\"x\":{\"value\":0},\"y\":{\"value\":1}},\"id\":\"1030\",\"type\":\"Wedge\"},{\"attributes\":{\"source\":{\"id\":\"1028\",\"type\":\"ColumnDataSource\"}},\"id\":\"1033\",\"type\":\"CDSView\"},{\"attributes\":{\"label\":{\"field\":\"review_type\"},\"renderers\":[{\"id\":\"1032\",\"type\":\"GlyphRenderer\"}]},\"id\":\"1040\",\"type\":\"LegendItem\"},{\"attributes\":{},\"id\":\"1037\",\"type\":\"BasicTickFormatter\"},{\"attributes\":{},\"id\":\"1046\",\"type\":\"Selection\"}],\"root_ids\":[\"1003\"]},\"title\":\"Bokeh Application\",\"version\":\"1.0.2\"}};\n",
       "  var render_items = [{\"docid\":\"688cfe5e-e6b0-4982-8f73-f42fbb493a1a\",\"roots\":{\"1003\":\"6f0e04ec-1a88-42cc-bf76-1f7b52716b3f\"}}];\n",
       "  root.Bokeh.embed.embed_items_notebook(docs_json, render_items);\n",
       "\n",
       "  }\n",
       "  if (root.Bokeh !== undefined) {\n",
       "    embed_document(root);\n",
       "  } else {\n",
       "    var attempts = 0;\n",
       "    var timer = setInterval(function(root) {\n",
       "      if (root.Bokeh !== undefined) {\n",
       "        embed_document(root);\n",
       "        clearInterval(timer);\n",
       "      }\n",
       "      attempts++;\n",
       "      if (attempts > 100) {\n",
       "        console.log(\"Bokeh: ERROR: Unable to run BokehJS code because BokehJS library is missing\");\n",
       "        clearInterval(timer);\n",
       "      }\n",
       "    }, 10, root)\n",
       "  }\n",
       "})(window);"
      ],
      "application/vnd.bokehjs_exec.v0+json": ""
     },
     "metadata": {
      "application/vnd.bokehjs_exec.v0+json": {
       "id": "1003"
      }
     },
     "output_type": "display_data"
    }
   ],
   "source": [
    "# Let's plot a pie chart in bokeh!\n",
    "x = {\n",
    "    'Cuisine-Related Reviews': no_cuisine_reviews,\n",
    "    'Other Reviews': no_total_reviews-no_cuisine_reviews,\n",
    "}\n",
    "\n",
    "data = pd.Series(x).reset_index(name='value').rename(columns={'index':'review_type'})\n",
    "data['angle'] = data['value']/data['value'].sum() * 2*pi\n",
    "data['color'] = ['coral','royalblue'] #Category20c[len(x)]\n",
    "\n",
    "piechart = figure(plot_height=350, title=\"Pie Chart - Number of reviews\", toolbar_location=None,\n",
    "           tools=\"hover\", tooltips=\"@review_type: @value\", x_range=(-0.5, 1.0), )\n",
    "\n",
    "piechart.wedge(x=0, y=1, radius=0.4,\n",
    "        start_angle=cumsum('angle', include_zero=True), end_angle=cumsum('angle'),\n",
    "        line_color=\"white\", fill_color='color', legend='review_type', source=data)\n",
    "\n",
    "piechart.axis.axis_label=None\n",
    "piechart.axis.visible=False\n",
    "piechart.grid.grid_line_color = None\n",
    "\n",
    "show(piechart)"
   ]
  },
  {
   "cell_type": "code",
   "execution_count": 36,
   "metadata": {},
   "outputs": [
    {
     "name": "stdout",
     "output_type": "stream",
     "text": [
      "Total No. of users without any reviews 492968\n",
      "Total No. of businesses without any reviews 0\n"
     ]
    }
   ],
   "source": [
    "ratings_users_ls = reviews_df[['user_id','business_id','stars']]['user_id'].unique()\n",
    "ratings_businesses_ls = reviews_df[['user_id','business_id','stars']]['business_id'].unique()\n",
    "\n",
    "business_ls = restaurants_df['business_id'].values\n",
    "total_users_ls = users_df['user_id'].values\n",
    "\n",
    "print(f'Total No. of users without any reviews {len(total_users_ls)-len(ratings_users_ls)}')\n",
    "print(f'Total No. of businesses without any reviews {len(business_ls)-len(ratings_businesses_ls)}')"
   ]
  },
  {
   "cell_type": "markdown",
   "metadata": {},
   "source": [
    "That's so many \"inactive\" users!"
   ]
  },
  {
   "cell_type": "code",
   "execution_count": 35,
   "metadata": {},
   "outputs": [
    {
     "name": "stdout",
     "output_type": "stream",
     "text": [
      "Median no. reviews is 1.0\n",
      "Mean no. reviews is 3.533922616150394\n"
     ]
    }
   ],
   "source": [
    "print(f'Median no. reviews is {np.median(np.array((reviews_df.groupby(\"user_id\")[\"review_id\"].count())))}')\n",
    "print(f'Mean no. reviews is {np.mean(np.array((reviews_df.groupby(\"user_id\")[\"review_id\"].count())))}')"
   ]
  },
  {
   "cell_type": "markdown",
   "metadata": {},
   "source": [
    "The median number of reviews is only 1 per user! This is a very very sparse matrix of user ratings/businesses. This will present a serious cold start problem when we look at finding similarity among users."
   ]
  },
  {
   "cell_type": "code",
   "execution_count": 289,
   "metadata": {},
   "outputs": [],
   "source": [
    "group_cnt_df = reviews_df.groupby('user_id').count().reset_index()[['user_id','review_id']]"
   ]
  },
  {
   "cell_type": "code",
   "execution_count": 460,
   "metadata": {},
   "outputs": [
    {
     "data": {
      "text/plain": [
       "count    1.025201e+06\n",
       "mean     3.533923e+00\n",
       "std      1.055567e+01\n",
       "min      1.000000e+00\n",
       "25%      1.000000e+00\n",
       "50%      1.000000e+00\n",
       "75%      3.000000e+00\n",
       "max      2.300000e+03\n",
       "Name: review_id, dtype: float64"
      ]
     },
     "execution_count": 460,
     "metadata": {},
     "output_type": "execute_result"
    }
   ],
   "source": [
    "group_cnt_df['review_id'].describe()"
   ]
  },
  {
   "cell_type": "markdown",
   "metadata": {},
   "source": [
    "There are user(s) with 2300 reviews?! Let's see that"
   ]
  },
  {
   "cell_type": "code",
   "execution_count": 291,
   "metadata": {},
   "outputs": [
    {
     "data": {
      "text/plain": [
       "Int64Index([223372], dtype='int64')"
      ]
     },
     "execution_count": 291,
     "metadata": {},
     "output_type": "execute_result"
    }
   ],
   "source": [
    "group_cnt_df[group_cnt_df['review_id']==2300].index"
   ]
  },
  {
   "cell_type": "code",
   "execution_count": 295,
   "metadata": {},
   "outputs": [
    {
     "data": {
      "image/png": "[encoded data removed]",
      "text/plain": [
       "<matplotlib.figure.Figure at 0x7f993d259a58>"
      ]
     },
     "metadata": {},
     "output_type": "display_data"
    }
   ],
   "source": [
    "sns.violinplot(group_cnt_df.drop(group_cnt_df[group_cnt_df['review_id']>200].index)['review_id'].values)\n",
    "plt.title('No. of reviews/user distribution plot: for users with < 200 reviews')\n",
    "plt.show()"
   ]
  },
  {
   "cell_type": "code",
   "execution_count": 458,
   "metadata": {},
   "outputs": [
    {
     "data": {
      "image/png": "[encoded data removed]",
      "text/plain": [
       "<matplotlib.figure.Figure at 0x7f994e955fd0>"
      ]
     },
     "metadata": {},
     "output_type": "display_data"
    }
   ],
   "source": [
    "sns.violinplot(group_cnt_df.drop(group_cnt_df[group_cnt_df['review_id']<500].index)['review_id'].values)\n",
    "plt.title('No. of reviews/user distribution plot: for users with < 500 reviews')\n",
    "plt.show()"
   ]
  },
  {
   "cell_type": "markdown",
   "metadata": {},
   "source": [
    "<a id='modelling_destination'></a>\n",
    "# 6 Modelling\n",
    "___"
   ]
  },
  {
   "cell_type": "markdown",
   "metadata": {},
   "source": [
    "## 6-1 Approach 1 - Matrix Factorization User-Restaurant"
   ]
  },
  {
   "cell_type": "code",
   "execution_count": 55,
   "metadata": {},
   "outputs": [],
   "source": [
    "reader = Reader(rating_scale=(1, 5))\n",
    "\n",
    "ratings_food_df = reviews_df[reviews_df['review_year']==2016][['user_id', 'business_id', 'stars']] # treat this as test set\n",
    "\n",
    "ratings_surprise_df = Dataset.load_from_df(ratings_food_df, reader)"
   ]
  },
  {
   "cell_type": "code",
   "execution_count": 457,
   "metadata": {},
   "outputs": [
    {
     "name": "stdout",
     "output_type": "stream",
     "text": [
      "Estimating biases using als...\n",
      "Estimating biases using als...\n",
      "Estimating biases using als...\n",
      "Estimating biases using als...\n",
      "Estimating biases using als...\n"
     ]
    },
    {
     "data": {
      "text/plain": [
       "{'fit_time': (6.613567352294922,\n",
       "  6.64941143989563,\n",
       "  7.338420629501343,\n",
       "  6.692265033721924,\n",
       "  7.398461103439331),\n",
       " 'test_mae': array([1.06090451, 1.05854392, 1.05823521, 1.05518913, 1.05931052]),\n",
       " 'test_rmse': array([1.29865051, 1.29820474, 1.29716665, 1.29194308, 1.2962783 ]),\n",
       " 'test_time': (1.2925052642822266,\n",
       "  1.249199628829956,\n",
       "  1.2453241348266602,\n",
       "  1.2598249912261963,\n",
       "  1.1804664134979248)}"
      ]
     },
     "execution_count": 457,
     "metadata": {},
     "output_type": "execute_result"
    }
   ],
   "source": [
    "baseline_rec = BaselineOnly()\n",
    "surprise.model_selection.cross_validate(baseline_rec, ratings_surprise_df, measures=['RMSE','MAE'])"
   ]
  },
  {
   "cell_type": "code",
   "execution_count": 56,
   "metadata": {
    "scrolled": true
   },
   "outputs": [
    {
     "data": {
      "text/plain": [
       "{'fit_time': (39.63856482505798,\n",
       "  39.406063079833984,\n",
       "  39.63956117630005,\n",
       "  39.27184319496155,\n",
       "  39.02591896057129),\n",
       " 'test_mae': array([1.0510261 , 1.05342884, 1.04994134, 1.05356744, 1.05406867]),\n",
       " 'test_rmse': array([1.29728326, 1.29837626, 1.29332573, 1.29810879, 1.29798778]),\n",
       " 'test_time': (2.8016927242279053,\n",
       "  1.5213909149169922,\n",
       "  1.4429700374603271,\n",
       "  1.3969831466674805,\n",
       "  1.364018440246582)}"
      ]
     },
     "execution_count": 56,
     "metadata": {},
     "output_type": "execute_result"
    }
   ],
   "source": [
    "ratings_surprise_df.split(n_folds=5)\n",
    "\n",
    "# cross validation\n",
    "svd_model = SVD()\n",
    "surprise.model_selection.cross_validate(svd_model, ratings_surprise_df, measures=['RMSE','MAE'])"
   ]
  },
  {
   "cell_type": "code",
   "execution_count": 60,
   "metadata": {},
   "outputs": [],
   "source": [
    "# build another set for optimization\n",
    "ratings_food15_df = reviews_df[reviews_df['review_year']==2015][['user_id', 'business_id', 'stars']] # treat this as test set\n",
    "\n",
    "ratings_surprise15_df = Dataset.load_from_df(ratings_food15_df, reader)"
   ]
  },
  {
   "cell_type": "code",
   "execution_count": 92,
   "metadata": {},
   "outputs": [
    {
     "name": "stdout",
     "output_type": "stream",
     "text": [
      "1.2798189192969407\n",
      "{'n_epochs': 20, 'lr_all': 0.005, 'reg_all': 0.1, 'n_factors': 100}\n"
     ]
    }
   ],
   "source": [
    "# GridSearch for optimizing parameters\n",
    "\n",
    "param_grid = {'n_epochs': [5, 10, 20], 'lr_all': [0.002, 0.005, 0.001, 0.1],\n",
    "              'reg_all': [0.4, 0.6, 0.1], 'n_factors': [100,110, 120, 130]}\n",
    "svd_optimizer = GridSearchCV(SVD, param_grid, measures=['rmse', 'mae'], cv=3, n_jobs=-1)\n",
    "\n",
    "svd_optimizer.fit(ratings_surprise15_df)\n",
    "\n",
    "# best RMSE score\n",
    "print(svd_optimizer.best_score['rmse'])\n",
    "\n",
    "# combination of parameters that gave the best RMSE score\n",
    "print(svd_optimizer.best_params['rmse'])\n"
   ]
  },
  {
   "cell_type": "code",
   "execution_count": null,
   "metadata": {},
   "outputs": [],
   "source": [
    "# GridSearch for optimizing parameters\n",
    "\n",
    "param_grid2 = {'n_epochs': [5, 10, 20], 'lr_all': [0.005, 0.001, 0.1],\n",
    "              'reg_all': [0.4, 0.6, 0.1], 'n_factors': [100,500,1000,2000]}\n",
    "svd_optimizer2 = GridSearchCV(SVD, param_grid, measures=['rmse', 'mae'], cv=3, n_jobs=-1)\n",
    "\n",
    "svd_optimizer2.fit(ratings_surprise15_df)\n",
    "\n",
    "# best RMSE score\n",
    "print(svd_optimizer2.best_score['rmse'])\n",
    "\n",
    "# combination of parameters that gave the best RMSE score\n",
    "print(svd_optimizer2.best_params['rmse'])\n"
   ]
  },
  {
   "cell_type": "code",
   "execution_count": 462,
   "metadata": {},
   "outputs": [
    {
     "name": "stdout",
     "output_type": "stream",
     "text": [
      "1.2794708377674961\n",
      "{'n_epochs': 20, 'lr_all': 0.005, 'reg_all': 0.1, 'n_factors': 100}\n"
     ]
    }
   ],
   "source": [
    "# best RMSE score\n",
    "print(svd_optimizer2.best_score['rmse'])\n",
    "\n",
    "# combination of parameters that gave the best RMSE score\n",
    "print(svd_optimizer2.best_params['rmse'])"
   ]
  },
  {
   "cell_type": "markdown",
   "metadata": {},
   "source": [
    "Comparing RMSE, SVD model didn't perform really much better than the baseline predictor. The main culprit may be the sparsity of my dataset. We have ~5mil reviews where as there are 1.5mil users and ~155k restaurants. That's a very small % of my user-restaurant review matrix being filled. Hence, with SVD implementation, the influence of the matrix factorization will be harder to outweight the baseline predictor portion in the formula."
   ]
  },
  {
   "cell_type": "markdown",
   "metadata": {},
   "source": [
    "## 6-2 Approach 2 - Can We Combine Clustering and SVD?"
   ]
  },
  {
   "cell_type": "markdown",
   "metadata": {},
   "source": [
    "### 6-2-1 Feature Engineering & Extraction"
   ]
  },
  {
   "cell_type": "markdown",
   "metadata": {},
   "source": [
    "#### 6-2-1-1 Getting Price Range for the restaurants"
   ]
  },
  {
   "cell_type": "code",
   "execution_count": 62,
   "metadata": {
    "scrolled": false
   },
   "outputs": [
    {
     "name": "stderr",
     "output_type": "stream",
     "text": [
      "/home/p_duongthai/anaconda3/lib/python3.6/site-packages/ipykernel_launcher.py:3: SettingWithCopyWarning: \n",
      "A value is trying to be set on a copy of a slice from a DataFrame.\n",
      "Try using .loc[row_indexer,col_indexer] = value instead\n",
      "\n",
      "See the caveats in the documentation: http://pandas.pydata.org/pandas-docs/stable/indexing.html#indexing-view-versus-copy\n",
      "  This is separate from the ipykernel package so we can avoid doing imports until\n"
     ]
    }
   ],
   "source": [
    "# the attributes are buried inside nested json structure. Let's get them out and put them into a list.\n",
    "\n",
    "restaurants_df['price_range'] = restaurants_df['attributes'].map(lambda x: x.get('RestaurantsPriceRange2',0) if x is not None else 0)"
   ]
  },
  {
   "cell_type": "code",
   "execution_count": 63,
   "metadata": {},
   "outputs": [
    {
     "name": "stderr",
     "output_type": "stream",
     "text": [
      "/home/p_duongthai/anaconda3/lib/python3.6/site-packages/ipykernel_launcher.py:1: SettingWithCopyWarning: \n",
      "A value is trying to be set on a copy of a slice from a DataFrame.\n",
      "Try using .loc[row_indexer,col_indexer] = value instead\n",
      "\n",
      "See the caveats in the documentation: http://pandas.pydata.org/pandas-docs/stable/indexing.html#indexing-view-versus-copy\n",
      "  \"\"\"Entry point for launching an IPython kernel.\n"
     ]
    }
   ],
   "source": [
    "restaurants_df['price_range'] = pd.to_numeric(restaurants_df['price_range'])"
   ]
  },
  {
   "cell_type": "markdown",
   "metadata": {},
   "source": [
    "#### 6-2-1-2 Compute the price range preference"
   ]
  },
  {
   "cell_type": "code",
   "execution_count": 64,
   "metadata": {},
   "outputs": [],
   "source": [
    "price_reviews_df = reviews_df.merge(restaurants_df[['business_id','price_range']], \n",
    "                                           on='business_id')[['review_id','user_id','price_range']]\n",
    "price_reviews_pivot_df = price_reviews_df.groupby(by=['user_id','price_range']).count()\n",
    "price_reviews_pivot_df.reset_index(inplace=True)"
   ]
  },
  {
   "cell_type": "code",
   "execution_count": 65,
   "metadata": {},
   "outputs": [
    {
     "name": "stdout",
     "output_type": "stream",
     "text": [
      "(1025201, 6)\n"
     ]
    }
   ],
   "source": [
    "price_reviews_matrix_df = pd.pivot_table(price_reviews_pivot_df, values='review_id',\n",
    "                                         index='user_id',columns='price_range',aggfunc=sum)\n",
    "price_reviews_matrix_df.reset_index(inplace=True)\n",
    "print(price_reviews_matrix_df.shape)"
   ]
  },
  {
   "cell_type": "markdown",
   "metadata": {},
   "source": [
    "#### 6-2-1-3 Building Cuisine Preference"
   ]
  },
  {
   "cell_type": "code",
   "execution_count": 66,
   "metadata": {},
   "outputs": [],
   "source": [
    "reviews_test_df = reviews_df[reviews_df['review_year'] == 2016][['user_id','business_id','review_id']]\n",
    "restaurants_test_df = restaurants_df[['business_id','simplify_cats']]"
   ]
  },
  {
   "cell_type": "code",
   "execution_count": 67,
   "metadata": {},
   "outputs": [],
   "source": [
    "cuisine_ratings_df = reviews_test_df.merge(restaurants_test_df, on='business_id', how='left')\n",
    "cuisine_series = cuisine_ratings_df.apply(lambda x: \n",
    "                                          pd.Series(x['simplify_cats']), axis=1).stack().reset_index(level=1, drop=True)"
   ]
  },
  {
   "cell_type": "code",
   "execution_count": 68,
   "metadata": {},
   "outputs": [],
   "source": [
    "cuisine_series.name='cuisine'\n",
    "cuisine_update_df = cuisine_ratings_df.join(cuisine_series)\n",
    "cuisine_update_df.reset_index(inplace=True)"
   ]
  },
  {
   "cell_type": "code",
   "execution_count": 69,
   "metadata": {},
   "outputs": [],
   "source": [
    "cuisine_pref_matrix_df = cuisine_update_df[['user_id','review_id','cuisine']].pivot_table(values='review_id',\n",
    "                                                                                          index='user_id', columns='cuisine', aggfunc='count')\n",
    "cuisine_pref_matrix_df.fillna(0,inplace=True)\n",
    "cuisine_pref_matrix_df.reset_index(inplace=True)"
   ]
  },
  {
   "cell_type": "code",
   "execution_count": 308,
   "metadata": {},
   "outputs": [
    {
     "data": {
      "text/html": [
       "<div>\n",
       "<style scoped>\n",
       "    .dataframe tbody tr th:only-of-type {\n",
       "        vertical-align: middle;\n",
       "    }\n",
       "\n",
       "    .dataframe tbody tr th {\n",
       "        vertical-align: top;\n",
       "    }\n",
       "\n",
       "    .dataframe thead th {\n",
       "        text-align: right;\n",
       "    }\n",
       "</style>\n",
       "<table border=\"1\" class=\"dataframe\">\n",
       "  <thead>\n",
       "    <tr style=\"text-align: right;\">\n",
       "      <th>cuisine</th>\n",
       "      <th>user_id</th>\n",
       "      <th>A</th>\n",
       "      <th>Afghan</th>\n",
       "      <th>African</th>\n",
       "      <th>American (New)</th>\n",
       "      <th>American (Traditional)</th>\n",
       "      <th>Arabian</th>\n",
       "      <th>Argentine</th>\n",
       "      <th>Armenian</th>\n",
       "      <th>Asian Fusion</th>\n",
       "      <th>...</th>\n",
       "      <th>Thai</th>\n",
       "      <th>Traditional Norwegian</th>\n",
       "      <th>Turkish</th>\n",
       "      <th>Ukrainian</th>\n",
       "      <th>Uzbek</th>\n",
       "      <th>Vegan</th>\n",
       "      <th>Vegetarian</th>\n",
       "      <th>Vietnamese</th>\n",
       "      <th>Waffles</th>\n",
       "      <th>Wraps</th>\n",
       "    </tr>\n",
       "  </thead>\n",
       "  <tbody>\n",
       "    <tr>\n",
       "      <th>198526</th>\n",
       "      <td>grSZCpMjEW9Ibt6z8NIw6Q</td>\n",
       "      <td>0.0</td>\n",
       "      <td>0.0</td>\n",
       "      <td>0.0</td>\n",
       "      <td>1.0</td>\n",
       "      <td>2.0</td>\n",
       "      <td>0.0</td>\n",
       "      <td>0.0</td>\n",
       "      <td>0.0</td>\n",
       "      <td>0.0</td>\n",
       "      <td>...</td>\n",
       "      <td>0.0</td>\n",
       "      <td>0.0</td>\n",
       "      <td>0.0</td>\n",
       "      <td>1.0</td>\n",
       "      <td>0.0</td>\n",
       "      <td>0.0</td>\n",
       "      <td>0.0</td>\n",
       "      <td>0.0</td>\n",
       "      <td>0.0</td>\n",
       "      <td>0.0</td>\n",
       "    </tr>\n",
       "    <tr>\n",
       "      <th>113457</th>\n",
       "      <td>Oc7FbZnzIj77bD8p2qyojg</td>\n",
       "      <td>0.0</td>\n",
       "      <td>0.0</td>\n",
       "      <td>0.0</td>\n",
       "      <td>0.0</td>\n",
       "      <td>0.0</td>\n",
       "      <td>0.0</td>\n",
       "      <td>0.0</td>\n",
       "      <td>0.0</td>\n",
       "      <td>0.0</td>\n",
       "      <td>...</td>\n",
       "      <td>0.0</td>\n",
       "      <td>0.0</td>\n",
       "      <td>0.0</td>\n",
       "      <td>0.0</td>\n",
       "      <td>0.0</td>\n",
       "      <td>0.0</td>\n",
       "      <td>0.0</td>\n",
       "      <td>0.0</td>\n",
       "      <td>0.0</td>\n",
       "      <td>0.0</td>\n",
       "    </tr>\n",
       "    <tr>\n",
       "      <th>199489</th>\n",
       "      <td>h4zY-bhSKlmt5abuDOnyvg</td>\n",
       "      <td>0.0</td>\n",
       "      <td>0.0</td>\n",
       "      <td>0.0</td>\n",
       "      <td>0.0</td>\n",
       "      <td>0.0</td>\n",
       "      <td>0.0</td>\n",
       "      <td>0.0</td>\n",
       "      <td>0.0</td>\n",
       "      <td>0.0</td>\n",
       "      <td>...</td>\n",
       "      <td>0.0</td>\n",
       "      <td>0.0</td>\n",
       "      <td>0.0</td>\n",
       "      <td>0.0</td>\n",
       "      <td>0.0</td>\n",
       "      <td>0.0</td>\n",
       "      <td>0.0</td>\n",
       "      <td>0.0</td>\n",
       "      <td>0.0</td>\n",
       "      <td>0.0</td>\n",
       "    </tr>\n",
       "    <tr>\n",
       "      <th>96434</th>\n",
       "      <td>KmP0bKPFrMxD1J0pD377dA</td>\n",
       "      <td>0.0</td>\n",
       "      <td>0.0</td>\n",
       "      <td>0.0</td>\n",
       "      <td>1.0</td>\n",
       "      <td>0.0</td>\n",
       "      <td>0.0</td>\n",
       "      <td>0.0</td>\n",
       "      <td>0.0</td>\n",
       "      <td>0.0</td>\n",
       "      <td>...</td>\n",
       "      <td>0.0</td>\n",
       "      <td>0.0</td>\n",
       "      <td>0.0</td>\n",
       "      <td>0.0</td>\n",
       "      <td>0.0</td>\n",
       "      <td>0.0</td>\n",
       "      <td>0.0</td>\n",
       "      <td>0.0</td>\n",
       "      <td>0.0</td>\n",
       "      <td>0.0</td>\n",
       "    </tr>\n",
       "    <tr>\n",
       "      <th>128463</th>\n",
       "      <td>S13cjAjHnY5kSxXsU2viQg</td>\n",
       "      <td>0.0</td>\n",
       "      <td>0.0</td>\n",
       "      <td>0.0</td>\n",
       "      <td>0.0</td>\n",
       "      <td>0.0</td>\n",
       "      <td>0.0</td>\n",
       "      <td>0.0</td>\n",
       "      <td>0.0</td>\n",
       "      <td>1.0</td>\n",
       "      <td>...</td>\n",
       "      <td>0.0</td>\n",
       "      <td>0.0</td>\n",
       "      <td>0.0</td>\n",
       "      <td>0.0</td>\n",
       "      <td>0.0</td>\n",
       "      <td>0.0</td>\n",
       "      <td>0.0</td>\n",
       "      <td>0.0</td>\n",
       "      <td>0.0</td>\n",
       "      <td>0.0</td>\n",
       "    </tr>\n",
       "  </tbody>\n",
       "</table>\n",
       "<p>5 rows × 143 columns</p>\n",
       "</div>"
      ],
      "text/plain": [
       "cuisine                 user_id    A  Afghan  African  American (New)  \\\n",
       "198526   grSZCpMjEW9Ibt6z8NIw6Q  0.0     0.0      0.0             1.0   \n",
       "113457   Oc7FbZnzIj77bD8p2qyojg  0.0     0.0      0.0             0.0   \n",
       "199489   h4zY-bhSKlmt5abuDOnyvg  0.0     0.0      0.0             0.0   \n",
       "96434    KmP0bKPFrMxD1J0pD377dA  0.0     0.0      0.0             1.0   \n",
       "128463   S13cjAjHnY5kSxXsU2viQg  0.0     0.0      0.0             0.0   \n",
       "\n",
       "cuisine  American (Traditional)  Arabian  Argentine  Armenian  Asian Fusion  \\\n",
       "198526                      2.0      0.0        0.0       0.0           0.0   \n",
       "113457                      0.0      0.0        0.0       0.0           0.0   \n",
       "199489                      0.0      0.0        0.0       0.0           0.0   \n",
       "96434                       0.0      0.0        0.0       0.0           0.0   \n",
       "128463                      0.0      0.0        0.0       0.0           1.0   \n",
       "\n",
       "cuisine  ...    Thai  Traditional Norwegian  Turkish  Ukrainian  Uzbek  Vegan  \\\n",
       "198526   ...     0.0                    0.0      0.0        1.0    0.0    0.0   \n",
       "113457   ...     0.0                    0.0      0.0        0.0    0.0    0.0   \n",
       "199489   ...     0.0                    0.0      0.0        0.0    0.0    0.0   \n",
       "96434    ...     0.0                    0.0      0.0        0.0    0.0    0.0   \n",
       "128463   ...     0.0                    0.0      0.0        0.0    0.0    0.0   \n",
       "\n",
       "cuisine  Vegetarian  Vietnamese  Waffles  Wraps  \n",
       "198526          0.0         0.0      0.0    0.0  \n",
       "113457          0.0         0.0      0.0    0.0  \n",
       "199489          0.0         0.0      0.0    0.0  \n",
       "96434           0.0         0.0      0.0    0.0  \n",
       "128463          0.0         0.0      0.0    0.0  \n",
       "\n",
       "[5 rows x 143 columns]"
      ]
     },
     "execution_count": 308,
     "metadata": {},
     "output_type": "execute_result"
    }
   ],
   "source": [
    "cuisine_pref_matrix_df.sample(5)"
   ]
  },
  {
   "cell_type": "code",
   "execution_count": 144,
   "metadata": {},
   "outputs": [],
   "source": [
    "users_total_reviews_df = cuisine_ratings_df.groupby('user_id').count()[['review_id']].reset_index()\n",
    "# users_total_reviews_df.set_index('user_id', drop=True, inplace=True)"
   ]
  },
  {
   "cell_type": "markdown",
   "metadata": {},
   "source": [
    "#### 6-2-1-4 Extract Users' Locations Based On Reviews"
   ]
  },
  {
   "cell_type": "code",
   "execution_count": 72,
   "metadata": {},
   "outputs": [],
   "source": [
    "location_reviews_df = reviews_test_df.merge(restaurants_df[['business_id','city']],\n",
    "                                              on='business_id')[['review_id','user_id','city']]\n",
    "location_reviews_df2 = location_reviews_df.groupby(by=['user_id','city']).count().reset_index()\n",
    "location_reviews_df2['ranking'] = location_reviews_df2.groupby('user_id')['review_id'].rank(ascending=False)\n",
    "\n",
    "# since each user may review more than one locations, I assume the location with the most reviews is user's location\n",
    "\n",
    "users_locations_all_df = users_df.merge(location_reviews_df2[location_reviews_df2['ranking']==1], on='user_id', how='left')"
   ]
  },
  {
   "cell_type": "markdown",
   "metadata": {},
   "source": [
    "#### 6-2-1-5 Building Custom User Profile"
   ]
  },
  {
   "cell_type": "markdown",
   "metadata": {},
   "source": [
    "Since we established that many of the users are very inactive, \"cold start\" problem. Let's exclude them from our dataset for modelling first."
   ]
  },
  {
   "cell_type": "code",
   "execution_count": 145,
   "metadata": {},
   "outputs": [],
   "source": [
    "users_id_df = users_df[['user_id']]\n",
    "users_w_reviews_df = reviews_test_df[['user_id']]\n",
    "\n",
    "active_users_df = users_id_df.merge(users_w_reviews_df, \n",
    "                                    on='user_id', how='inner')\n",
    "\n",
    "active_w_price_df = active_users_df.merge(price_reviews_matrix_df, \n",
    "                                                      how='left', on='user_id')\n",
    "users_profile_df = active_w_price_df.merge(users_total_reviews_df,  \n",
    "                                           how='left', on='user_id')"
   ]
  },
  {
   "cell_type": "code",
   "execution_count": 146,
   "metadata": {},
   "outputs": [],
   "source": [
    "users_profile_df.set_index('user_id',inplace=True)\n",
    "users_profile_df.fillna(0,inplace=True)"
   ]
  },
  {
   "cell_type": "code",
   "execution_count": 147,
   "metadata": {},
   "outputs": [
    {
     "data": {
      "text/html": [
       "<div>\n",
       "<style scoped>\n",
       "    .dataframe tbody tr th:only-of-type {\n",
       "        vertical-align: middle;\n",
       "    }\n",
       "\n",
       "    .dataframe tbody tr th {\n",
       "        vertical-align: top;\n",
       "    }\n",
       "\n",
       "    .dataframe thead th {\n",
       "        text-align: right;\n",
       "    }\n",
       "</style>\n",
       "<table border=\"1\" class=\"dataframe\">\n",
       "  <thead>\n",
       "    <tr style=\"text-align: right;\">\n",
       "      <th></th>\n",
       "      <th>0</th>\n",
       "      <th>1</th>\n",
       "      <th>2</th>\n",
       "      <th>3</th>\n",
       "      <th>4</th>\n",
       "      <th>review_id</th>\n",
       "    </tr>\n",
       "    <tr>\n",
       "      <th>user_id</th>\n",
       "      <th></th>\n",
       "      <th></th>\n",
       "      <th></th>\n",
       "      <th></th>\n",
       "      <th></th>\n",
       "      <th></th>\n",
       "    </tr>\n",
       "  </thead>\n",
       "  <tbody>\n",
       "    <tr>\n",
       "      <th>xtnxQ-61hHrkYZ3fa8OCAg</th>\n",
       "      <td>0.0</td>\n",
       "      <td>5.0</td>\n",
       "      <td>10.0</td>\n",
       "      <td>0.0</td>\n",
       "      <td>0.0</td>\n",
       "      <td>2</td>\n",
       "    </tr>\n",
       "    <tr>\n",
       "      <th>dkGyxlhUrbsBJkZHZy9NZQ</th>\n",
       "      <td>0.0</td>\n",
       "      <td>3.0</td>\n",
       "      <td>8.0</td>\n",
       "      <td>1.0</td>\n",
       "      <td>0.0</td>\n",
       "      <td>3</td>\n",
       "    </tr>\n",
       "    <tr>\n",
       "      <th>C-ObuoSf6iXBnc0MgAJBrw</th>\n",
       "      <td>1.0</td>\n",
       "      <td>15.0</td>\n",
       "      <td>49.0</td>\n",
       "      <td>6.0</td>\n",
       "      <td>0.0</td>\n",
       "      <td>9</td>\n",
       "    </tr>\n",
       "    <tr>\n",
       "      <th>GXVEhnIM1CpiGj9TZehxGw</th>\n",
       "      <td>0.0</td>\n",
       "      <td>10.0</td>\n",
       "      <td>42.0</td>\n",
       "      <td>17.0</td>\n",
       "      <td>2.0</td>\n",
       "      <td>11</td>\n",
       "    </tr>\n",
       "    <tr>\n",
       "      <th>4jbz7cOVuV_Q7v2b3pNrLw</th>\n",
       "      <td>1.0</td>\n",
       "      <td>4.0</td>\n",
       "      <td>24.0</td>\n",
       "      <td>4.0</td>\n",
       "      <td>1.0</td>\n",
       "      <td>30</td>\n",
       "    </tr>\n",
       "    <tr>\n",
       "      <th>MyqN6E2yEZQ2QvBRAXNeGA</th>\n",
       "      <td>1.0</td>\n",
       "      <td>1.0</td>\n",
       "      <td>7.0</td>\n",
       "      <td>0.0</td>\n",
       "      <td>0.0</td>\n",
       "      <td>8</td>\n",
       "    </tr>\n",
       "    <tr>\n",
       "      <th>yjS3WsyxfLqURejnamV5UA</th>\n",
       "      <td>0.0</td>\n",
       "      <td>1.0</td>\n",
       "      <td>5.0</td>\n",
       "      <td>8.0</td>\n",
       "      <td>0.0</td>\n",
       "      <td>11</td>\n",
       "    </tr>\n",
       "    <tr>\n",
       "      <th>6neC-g0JasIqzgIS73t-Kg</th>\n",
       "      <td>0.0</td>\n",
       "      <td>0.0</td>\n",
       "      <td>2.0</td>\n",
       "      <td>1.0</td>\n",
       "      <td>0.0</td>\n",
       "      <td>3</td>\n",
       "    </tr>\n",
       "    <tr>\n",
       "      <th>7nA9P6EukhTwZi67JB-UTg</th>\n",
       "      <td>1.0</td>\n",
       "      <td>28.0</td>\n",
       "      <td>30.0</td>\n",
       "      <td>1.0</td>\n",
       "      <td>2.0</td>\n",
       "      <td>56</td>\n",
       "    </tr>\n",
       "    <tr>\n",
       "      <th>ys5Em9ZdqDUDHEOehkZchA</th>\n",
       "      <td>0.0</td>\n",
       "      <td>1.0</td>\n",
       "      <td>5.0</td>\n",
       "      <td>2.0</td>\n",
       "      <td>1.0</td>\n",
       "      <td>5</td>\n",
       "    </tr>\n",
       "  </tbody>\n",
       "</table>\n",
       "</div>"
      ],
      "text/plain": [
       "                          0     1     2     3    4  review_id\n",
       "user_id                                                      \n",
       "xtnxQ-61hHrkYZ3fa8OCAg  0.0   5.0  10.0   0.0  0.0          2\n",
       "dkGyxlhUrbsBJkZHZy9NZQ  0.0   3.0   8.0   1.0  0.0          3\n",
       "C-ObuoSf6iXBnc0MgAJBrw  1.0  15.0  49.0   6.0  0.0          9\n",
       "GXVEhnIM1CpiGj9TZehxGw  0.0  10.0  42.0  17.0  2.0         11\n",
       "4jbz7cOVuV_Q7v2b3pNrLw  1.0   4.0  24.0   4.0  1.0         30\n",
       "MyqN6E2yEZQ2QvBRAXNeGA  1.0   1.0   7.0   0.0  0.0          8\n",
       "yjS3WsyxfLqURejnamV5UA  0.0   1.0   5.0   8.0  0.0         11\n",
       "6neC-g0JasIqzgIS73t-Kg  0.0   0.0   2.0   1.0  0.0          3\n",
       "7nA9P6EukhTwZi67JB-UTg  1.0  28.0  30.0   1.0  2.0         56\n",
       "ys5Em9ZdqDUDHEOehkZchA  0.0   1.0   5.0   2.0  1.0          5"
      ]
     },
     "execution_count": 147,
     "metadata": {},
     "output_type": "execute_result"
    }
   ],
   "source": [
    "users_profile_df.sample(10)"
   ]
  },
  {
   "cell_type": "code",
   "execution_count": 148,
   "metadata": {},
   "outputs": [
    {
     "name": "stdout",
     "output_type": "stream",
     "text": [
      "[0.91979007 0.04232772]\n"
     ]
    }
   ],
   "source": [
    "profile_pca = PCA(n_components=0.95)\n",
    "\n",
    "users_profile_df_pca = profile_pca.fit_transform(users_profile_df)\n",
    "\n",
    "print(profile_pca.explained_variance_ratio_)"
   ]
  },
  {
   "cell_type": "code",
   "execution_count": 149,
   "metadata": {},
   "outputs": [
    {
     "data": {
      "image/png": "[encoded data removed]",
      "text/plain": [
       "<matplotlib.figure.Figure at 0x7f994eb9a630>"
      ]
     },
     "metadata": {},
     "output_type": "display_data"
    }
   ],
   "source": [
    "sns.scatterplot(x=users_profile_df_pca[:,0],y=users_profile_df_pca[:,1])\n",
    "plt.show()"
   ]
  },
  {
   "cell_type": "code",
   "execution_count": 158,
   "metadata": {},
   "outputs": [
    {
     "data": {
      "text/plain": [
       "KMeans(algorithm='auto', copy_x=True, init='k-means++', max_iter=300,\n",
       "    n_clusters=8, n_init=10, n_jobs=1, precompute_distances='auto',\n",
       "    random_state=None, tol=0.0001, verbose=0)"
      ]
     },
     "execution_count": 158,
     "metadata": {},
     "output_type": "execute_result"
    }
   ],
   "source": [
    "kmean_profile = KMeans()\n",
    "\n",
    "kmean_profile.fit(users_profile_df_pca)"
   ]
  },
  {
   "cell_type": "code",
   "execution_count": 192,
   "metadata": {
    "scrolled": true
   },
   "outputs": [
    {
     "data": {
      "image/png": "[encoded data removed]",
      "text/plain": [
       "<matplotlib.figure.Figure at 0x7f994d646710>"
      ]
     },
     "metadata": {},
     "output_type": "display_data"
    }
   ],
   "source": [
    "sns.scatterplot(x=users_profile_df_pca[:,0],y=users_profile_df_pca[:,1],hue=kmean_profile.labels_)\n",
    "plt.show()"
   ]
  },
  {
   "cell_type": "code",
   "execution_count": 194,
   "metadata": {},
   "outputs": [
    {
     "data": {
      "text/plain": [
       "(array([0, 1, 2, 3, 4, 5, 6, 7], dtype=int32),\n",
       " array([495848,  12024,    280,  88325,   4435,    139,    630,  34356]))"
      ]
     },
     "execution_count": 194,
     "metadata": {},
     "output_type": "execute_result"
    }
   ],
   "source": [
    "np.unique(kmean_profile.labels_, return_counts=True)"
   ]
  },
  {
   "cell_type": "code",
   "execution_count": 167,
   "metadata": {
    "scrolled": false
   },
   "outputs": [
    {
     "data": {
      "image/png": "[encoded data removed]",
      "text/plain": [
       "<matplotlib.figure.Figure at 0x7f994f128780>"
      ]
     },
     "metadata": {},
     "output_type": "display_data"
    }
   ],
   "source": [
    "n_clusters = np.arange(1,20)\n",
    "\n",
    "inertia_ls = []\n",
    "\n",
    "for k in n_clusters:\n",
    "    \n",
    "    kmeans_model = KMeans(n_clusters = k)\n",
    "    kmeans_model.fit(users_profile_df_pca)\n",
    "    \n",
    "    inertia_ls.append(kmeans_model.inertia_)\n",
    "    \n",
    "sns.scatterplot(n_clusters, inertia_ls)\n",
    "plt.title(\"Intertia of clustering\")\n",
    "plt.xlabel(\"k-value\")\n",
    "plt.ylabel(\"interia value\")\n",
    "plt.show()"
   ]
  },
  {
   "cell_type": "code",
   "execution_count": 168,
   "metadata": {},
   "outputs": [
    {
     "data": {
      "image/png": "[encoded data removed]",
      "text/plain": [
       "<matplotlib.figure.Figure at 0x7f994ef5f630>"
      ]
     },
     "metadata": {},
     "output_type": "display_data"
    }
   ],
   "source": [
    "plt.scatter(np.arange(12),inertia_ls[0:12])\n",
    "plt.show()"
   ]
  },
  {
   "cell_type": "markdown",
   "metadata": {},
   "source": [
    "Looking at the elbow graph (and the zoomed in version), I can guess that after 7 clusters, there is not much inertia delta as the value of k increased. This can be my estimated number of clusters to construct a decent clustering model!"
   ]
  },
  {
   "cell_type": "markdown",
   "metadata": {},
   "source": [
    "#### Combining Clustering and SVD"
   ]
  },
  {
   "cell_type": "code",
   "execution_count": 169,
   "metadata": {},
   "outputs": [
    {
     "data": {
      "text/plain": [
       "KMeans(algorithm='auto', copy_x=True, init='k-means++', max_iter=300,\n",
       "    n_clusters=7, n_init=10, n_jobs=1, precompute_distances='auto',\n",
       "    random_state=None, tol=0.0001, verbose=0)"
      ]
     },
     "execution_count": 169,
     "metadata": {},
     "output_type": "execute_result"
    }
   ],
   "source": [
    "kmean_opt_profile = KMeans(n_clusters=7)\n",
    "\n",
    "kmean_opt_profile.fit(users_profile_df_pca)"
   ]
  },
  {
   "cell_type": "code",
   "execution_count": 193,
   "metadata": {},
   "outputs": [
    {
     "data": {
      "image/png": "[encoded data removed]",
      "text/plain": [
       "<matplotlib.figure.Figure at 0x7f994ca75da0>"
      ]
     },
     "metadata": {},
     "output_type": "display_data"
    }
   ],
   "source": [
    "sns.scatterplot(x=users_profile_df_pca[:,0],y=users_profile_df_pca[:,1],hue=kmean_opt_profile.labels_)\n",
    "plt.show()"
   ]
  },
  {
   "cell_type": "code",
   "execution_count": 195,
   "metadata": {},
   "outputs": [
    {
     "data": {
      "text/plain": [
       "(array([0, 1, 2, 3, 4, 5, 6, 7], dtype=int32),\n",
       " array([495848,  12024,    280,  88325,   4435,    139,    630,  34356]))"
      ]
     },
     "execution_count": 195,
     "metadata": {},
     "output_type": "execute_result"
    }
   ],
   "source": [
    "np.unique(kmean_profile.labels_, return_counts=True)"
   ]
  },
  {
   "cell_type": "code",
   "execution_count": 171,
   "metadata": {},
   "outputs": [],
   "source": [
    "# pick a random class to test\n",
    "\n",
    "label_1_indices = np.where(kmean_opt_profile.labels_==1)[0].flatten()"
   ]
  },
  {
   "cell_type": "code",
   "execution_count": 172,
   "metadata": {},
   "outputs": [],
   "source": [
    "# build users profile for these only\n",
    "\n",
    "ratings_wkmeans_df = Dataset.load_from_df(ratings_food_df[['user_id', 'business_id', 'stars']].iloc[label_1_indices,:],\n",
    "                                           reader)"
   ]
  },
  {
   "cell_type": "code",
   "execution_count": 173,
   "metadata": {},
   "outputs": [
    {
     "data": {
      "text/plain": [
       "{'fit_time': (0.047365665435791016,\n",
       "  0.046085357666015625,\n",
       "  0.04664158821105957,\n",
       "  0.04629397392272949,\n",
       "  0.045763254165649414),\n",
       " 'test_mae': array([1.08612662, 1.0910086 , 1.09626749, 1.10403807, 1.04556583]),\n",
       " 'test_rmse': array([1.32384594, 1.30996018, 1.36418377, 1.33146719, 1.31411493]),\n",
       " 'test_time': (0.0014109611511230469,\n",
       "  0.0015399456024169922,\n",
       "  0.001363515853881836,\n",
       "  0.0015382766723632812,\n",
       "  0.0014119148254394531)}"
      ]
     },
     "execution_count": 173,
     "metadata": {},
     "output_type": "execute_result"
    }
   ],
   "source": [
    "#svd_opt_model = SVD(n_epochs=20, lr_all=0.005, reg_all=0.1, n_factors=100)\n",
    "svd_test = SVD()\n",
    "# rating_train, rating_test = train_test_split(ratings_surprise_df, test_size=.25)\n",
    "\n",
    "# Train the algorithm on the trainset, and predict ratings for the testset\n",
    "# svd_opt_model.fit(rating_train)\n",
    "# predictions = svd_opt_model.test(rating_test)\n",
    "\n",
    "# Then compute RMSE\n",
    "# accuracy.rmse(predictions)\n",
    "ratings_wkmeans_df.split(n_folds=5)\n",
    "\n",
    "# surprise.model_selection.cross_validate(svd_opt_model, ratings_wkmeans_df, measures=['RMSE','MAE'])\n",
    "surprise.model_selection.cross_validate(svd_test, ratings_wkmeans_df, measures=['RMSE','MAE'])"
   ]
  },
  {
   "cell_type": "code",
   "execution_count": 174,
   "metadata": {},
   "outputs": [
    {
     "data": {
      "text/plain": [
       "{'fit_time': (0.04862213134765625,\n",
       "  0.0470883846282959,\n",
       "  0.04777336120605469,\n",
       "  0.0459442138671875,\n",
       "  0.04704475402832031),\n",
       " 'test_mae': array([1.1161079 , 1.12794453, 1.11165284, 1.024278  , 1.04272101]),\n",
       " 'test_rmse': array([1.38755092, 1.3623779 , 1.3684071 , 1.27753451, 1.24710964]),\n",
       " 'test_time': (0.0018405914306640625,\n",
       "  0.0015347003936767578,\n",
       "  0.0014383792877197266,\n",
       "  0.0014524459838867188,\n",
       "  0.001493692398071289)}"
      ]
     },
     "execution_count": 174,
     "metadata": {},
     "output_type": "execute_result"
    }
   ],
   "source": [
    "svd_opt_model = SVD(n_epochs=20, lr_all=0.005, reg_all=0.1, n_factors=100)\n",
    "# svd_test = SVD()\n",
    "# rating_train, rating_test = train_test_split(ratings_surprise_df, test_size=.25)\n",
    "\n",
    "# Train the algorithm on the trainset, and predict ratings for the testset\n",
    "# svd_opt_model.fit(rating_train)\n",
    "# predictions = svd_opt_model.test(rating_test)\n",
    "\n",
    "# Then compute RMSE\n",
    "# accuracy.rmse(predictions)\n",
    "ratings_wkmeans_df.split(n_folds=5)\n",
    "\n",
    "surprise.model_selection.cross_validate(svd_opt_model, ratings_wkmeans_df, measures=['RMSE','MAE'])\n",
    "# surprise.model_selection.cross_validate(svd_test, ratings_wkmeans_df, measures=['RMSE','MAE'])"
   ]
  },
  {
   "cell_type": "markdown",
   "metadata": {},
   "source": [
    "The metrics we should track perform worse than purely using SVD!"
   ]
  },
  {
   "cell_type": "markdown",
   "metadata": {},
   "source": [
    "<a id='recommender_destination'></a>\n",
    "# Building The Recommender!"
   ]
  },
  {
   "cell_type": "code",
   "execution_count": 450,
   "metadata": {},
   "outputs": [],
   "source": [
    "class Recommender():\n",
    "    \n",
    "    def __init__(self, model):\n",
    "        self.message = 'Getting Prediction'\n",
    "        self.model = model #SVD(n_epochs=20, lr_all=0.005, reg_all=0.1, n_factors=100)\n",
    "        \n",
    "    def get_location(self,obj_id, user_flag=1):\n",
    "        if user_flag == 1:\n",
    "            return users_locations_all_df[users_locations_all_df['user_id']==obj_id]['city'].values[0]\n",
    "        else:\n",
    "            return restaurants_df[restaurants_df['business_id']==obj_id]['city'].values[0]\n",
    "    \n",
    "    def get_restaurants(self,location):\n",
    "        return restaurants_df[restaurants_df['city']==location]['business_id'].values\n",
    "    \n",
    "    def is_new_user(self,user_id):\n",
    "        return user_id in reviews_df.user_id.values\n",
    "    \n",
    "    def get_actual_rating(self,user_id, restaurant_id):\n",
    "        return reviews_df[(reviews_df['user_id']==user_id) & (reviews_df['business_id']==restaurant_id)]['stars'].values\n",
    "    \n",
    "    def get_top20_restaurants(self,user_id, user_location):\n",
    "        local_restaurants = self.get_restaurants(user_location)\n",
    "#         last_month, last_2_month = datetime.today().month-1, datetime.today().month-2\n",
    "        last_two_months_revs = reviews_df[reviews_df['business_id'].isin(local_restaurants)]#.merge(local_restaurants, on='business_id', how='inner')\n",
    "        return last_two_months_revs.sort_values(by=['stars'],ascending=False)['business_id'][:20].values\n",
    "    \n",
    "    def recommend_restaurant_search(self,user_id,restaurant_id):\n",
    "        # to-do: replace with class.method to get user's location\n",
    "        user_location = self.get_location(user_id)\n",
    "        if pd.isnull(user_location):\n",
    "            user_location = 'Toronto' #default value since we don't have mean to determine physical location\n",
    "        if not self.is_new_user(user_id):\n",
    "            top_20 = self.get_top20_restaurants(user_id,user_location)\n",
    "            return restaurants_df[restaurants_df['business_id'].isin(top_20)]['name'] \n",
    "        else:\n",
    "            predicted_rating = self.model.predict(user_id,restaurant_id).est\n",
    "            actual_rating = self.get_actual_rating(user_id,restaurant_id)#self.model.predict(user_id,restaurant_id).r_ui\n",
    "            was_impossible = self.model.predict(user_id,restaurant_id).details['was_impossible']\n",
    "            \n",
    "            #recommendation_mess = f'User {user_id} searched for restaurant {restaurants_df[restaurants_df[\"business_id\"]==restaurant_id].name.values}. Predicted rating is {predicted_rating} and actual rating was {actual_rating}. Prediction was {\"unsuccessful\" if was_impossible else \"successful\"}'\n",
    "            return user_id, restaurants_df[restaurants_df[\"business_id\"]==restaurant_id].name.values, predicted_rating, actual_rating, \"unsuccessful\" if was_impossible else \"successful\" #recommendation_mess"
   ]
  },
  {
   "cell_type": "markdown",
   "metadata": {},
   "source": [
    "## 6-3 Test With Full Set"
   ]
  },
  {
   "cell_type": "markdown",
   "metadata": {},
   "source": [
    "### 6-3-1 Initialize full data set and fit model"
   ]
  },
  {
   "cell_type": "code",
   "execution_count": 315,
   "metadata": {},
   "outputs": [],
   "source": [
    "test_reader = Reader(rating_scale=(1, 5))\n",
    "overall_set_df = Dataset.load_from_df(reviews_df[['user_id','business_id','stars']], test_reader)"
   ]
  },
  {
   "cell_type": "code",
   "execution_count": 416,
   "metadata": {},
   "outputs": [
    {
     "data": {
      "text/plain": [
       "<surprise.prediction_algorithms.matrix_factorization.SVD at 0x7f989d028dd8>"
      ]
     },
     "execution_count": 416,
     "metadata": {},
     "output_type": "execute_result"
    }
   ],
   "source": [
    "my_model = SVD(n_epochs=20, lr_all=0.005, reg_all=0.1, n_factors=100)\n",
    "my_model.fit(overall_set_df.build_full_trainset())"
   ]
  },
  {
   "cell_type": "markdown",
   "metadata": {},
   "source": [
    "### 6-3-2 Instantiate recommender object"
   ]
  },
  {
   "cell_type": "code",
   "execution_count": 451,
   "metadata": {},
   "outputs": [],
   "source": [
    "my_recommender = Recommender(my_model)"
   ]
  },
  {
   "cell_type": "markdown",
   "metadata": {},
   "source": [
    "### 6-3-3 Test single prediction"
   ]
  },
  {
   "cell_type": "code",
   "execution_count": 437,
   "metadata": {},
   "outputs": [],
   "source": [
    "user_id, restaurant_name, predicted_rating, actual_rating, success = my_recommender.recommend_restaurant_search('n0r_0HkCFaC175vXtIVcaQ','RrCgc8eAKbHu-2IpQXg6Rw')\n",
    "message = f'User {user_id} searched for restaurant {restaurant_name}. Predicted rating is {predicted_rating} and actual rating was {actual_rating}. Prediction was {success}'"
   ]
  },
  {
   "cell_type": "code",
   "execution_count": 438,
   "metadata": {},
   "outputs": [
    {
     "name": "stdout",
     "output_type": "stream",
     "text": [
      "User n0r_0HkCFaC175vXtIVcaQ searched for restaurant ['Hiroba Sushi']. Predicted rating is 5 and actual rating was []. Prediction was successful\n"
     ]
    }
   ],
   "source": [
    "print(message)"
   ]
  },
  {
   "cell_type": "code",
   "execution_count": 340,
   "metadata": {
    "scrolled": true
   },
   "outputs": [
    {
     "data": {
      "text/html": [
       "<div>\n",
       "<style scoped>\n",
       "    .dataframe tbody tr th:only-of-type {\n",
       "        vertical-align: middle;\n",
       "    }\n",
       "\n",
       "    .dataframe tbody tr th {\n",
       "        vertical-align: top;\n",
       "    }\n",
       "\n",
       "    .dataframe thead th {\n",
       "        text-align: right;\n",
       "    }\n",
       "</style>\n",
       "<table border=\"1\" class=\"dataframe\">\n",
       "  <thead>\n",
       "    <tr style=\"text-align: right;\">\n",
       "      <th></th>\n",
       "      <th>business_id</th>\n",
       "      <th>cool</th>\n",
       "      <th>date</th>\n",
       "      <th>funny</th>\n",
       "      <th>review_id</th>\n",
       "      <th>stars</th>\n",
       "      <th>text</th>\n",
       "      <th>useful</th>\n",
       "      <th>user_id</th>\n",
       "      <th>name</th>\n",
       "      <th>review_year</th>\n",
       "      <th>review_month</th>\n",
       "    </tr>\n",
       "  </thead>\n",
       "  <tbody>\n",
       "    <tr>\n",
       "      <th>1321437</th>\n",
       "      <td>2VelfIojKVInFvEd-yMkww</td>\n",
       "      <td>0</td>\n",
       "      <td>2016-12-05</td>\n",
       "      <td>0</td>\n",
       "      <td>InS8sAgLLSjLFhXoD-lK-A</td>\n",
       "      <td>5</td>\n",
       "      <td>This is a place where I walk in and immediatel...</td>\n",
       "      <td>0</td>\n",
       "      <td>iy5nIOR6XiGgsAqUP2tpRw</td>\n",
       "      <td>Fiddler's Courtyard</td>\n",
       "      <td>2016</td>\n",
       "      <td>2016</td>\n",
       "    </tr>\n",
       "    <tr>\n",
       "      <th>1321438</th>\n",
       "      <td>XSZgcEMWM4XcuE-sWXny9w</td>\n",
       "      <td>0</td>\n",
       "      <td>2017-05-21</td>\n",
       "      <td>0</td>\n",
       "      <td>jTAGZ3fPD9ykq6Vczxj3rA</td>\n",
       "      <td>2</td>\n",
       "      <td>This review applies specifically to the roofto...</td>\n",
       "      <td>1</td>\n",
       "      <td>iy5nIOR6XiGgsAqUP2tpRw</td>\n",
       "      <td>Charbar</td>\n",
       "      <td>2017</td>\n",
       "      <td>2017</td>\n",
       "    </tr>\n",
       "    <tr>\n",
       "      <th>1321439</th>\n",
       "      <td>2AcO-aHnBqx94dU2Z4Em2Q</td>\n",
       "      <td>0</td>\n",
       "      <td>2017-02-19</td>\n",
       "      <td>1</td>\n",
       "      <td>lxiP5oFFJUnYlczlC8PB7A</td>\n",
       "      <td>1</td>\n",
       "      <td>After reading previous reviews of how good the...</td>\n",
       "      <td>7</td>\n",
       "      <td>iy5nIOR6XiGgsAqUP2tpRw</td>\n",
       "      <td>The Main Dish</td>\n",
       "      <td>2017</td>\n",
       "      <td>2017</td>\n",
       "    </tr>\n",
       "  </tbody>\n",
       "</table>\n",
       "</div>"
      ],
      "text/plain": [
       "                    business_id  cool       date  funny  \\\n",
       "1321437  2VelfIojKVInFvEd-yMkww     0 2016-12-05      0   \n",
       "1321438  XSZgcEMWM4XcuE-sWXny9w     0 2017-05-21      0   \n",
       "1321439  2AcO-aHnBqx94dU2Z4Em2Q     0 2017-02-19      1   \n",
       "\n",
       "                      review_id  stars  \\\n",
       "1321437  InS8sAgLLSjLFhXoD-lK-A      5   \n",
       "1321438  jTAGZ3fPD9ykq6Vczxj3rA      2   \n",
       "1321439  lxiP5oFFJUnYlczlC8PB7A      1   \n",
       "\n",
       "                                                      text  useful  \\\n",
       "1321437  This is a place where I walk in and immediatel...       0   \n",
       "1321438  This review applies specifically to the roofto...       1   \n",
       "1321439  After reading previous reviews of how good the...       7   \n",
       "\n",
       "                        user_id                 name  review_year  \\\n",
       "1321437  iy5nIOR6XiGgsAqUP2tpRw  Fiddler's Courtyard         2016   \n",
       "1321438  iy5nIOR6XiGgsAqUP2tpRw              Charbar         2017   \n",
       "1321439  iy5nIOR6XiGgsAqUP2tpRw        The Main Dish         2017   \n",
       "\n",
       "         review_month  \n",
       "1321437          2016  \n",
       "1321438          2017  \n",
       "1321439          2017  "
      ]
     },
     "execution_count": 340,
     "metadata": {},
     "output_type": "execute_result"
    }
   ],
   "source": [
    "reviews_df[reviews_df['user_id']=='iy5nIOR6XiGgsAqUP2tpRw']"
   ]
  },
  {
   "cell_type": "markdown",
   "metadata": {},
   "source": [
    "### 6-3-4 Test recommendation list"
   ]
  },
  {
   "cell_type": "code",
   "execution_count": 369,
   "metadata": {},
   "outputs": [
    {
     "data": {
      "text/plain": [
       "(2757,)"
      ]
     },
     "execution_count": 369,
     "metadata": {},
     "output_type": "execute_result"
    }
   ],
   "source": [
    "calgary_restaurants = restaurants_df[restaurants_df['city']=='Calgary']['name'].values\n",
    "calgary_restaurants.shape"
   ]
  },
  {
   "cell_type": "code",
   "execution_count": 358,
   "metadata": {},
   "outputs": [
    {
     "name": "stderr",
     "output_type": "stream",
     "text": [
      "100%|██████████| 2757/2757 [1:09:54<00:00,  1.52s/it]\n"
     ]
    }
   ],
   "source": [
    "predicted = []\n",
    "actual = []\n",
    "\n",
    "for restaurant in tqdm(calgary_restaurants):\n",
    "    user_id, restaurant_name, predicted_rating, actual_rating, success = my_recommender.recommend_restaurant_search('iy5nIOR6XiGgsAqUP2tpRw',restaurant)\n",
    "    predicted.append(predicted_rating)\n",
    "    actual.append(actual_rating)"
   ]
  },
  {
   "cell_type": "code",
   "execution_count": 370,
   "metadata": {},
   "outputs": [],
   "source": [
    "test_rated_df = pd.DataFrame({'restaurant': calgary_restaurants,\n",
    "     'predicted_rating': predicted,\n",
    "     'actual_rating': actual\n",
    "    })"
   ]
  },
  {
   "cell_type": "code",
   "execution_count": 372,
   "metadata": {
    "scrolled": true
   },
   "outputs": [
    {
     "data": {
      "text/html": [
       "<div>\n",
       "<style scoped>\n",
       "    .dataframe tbody tr th:only-of-type {\n",
       "        vertical-align: middle;\n",
       "    }\n",
       "\n",
       "    .dataframe tbody tr th {\n",
       "        vertical-align: top;\n",
       "    }\n",
       "\n",
       "    .dataframe thead th {\n",
       "        text-align: right;\n",
       "    }\n",
       "</style>\n",
       "<table border=\"1\" class=\"dataframe\">\n",
       "  <thead>\n",
       "    <tr style=\"text-align: right;\">\n",
       "      <th></th>\n",
       "      <th>actual_rating</th>\n",
       "      <th>predicted_rating</th>\n",
       "      <th>restaurant</th>\n",
       "    </tr>\n",
       "  </thead>\n",
       "  <tbody>\n",
       "    <tr>\n",
       "      <th>2478</th>\n",
       "      <td>[]</td>\n",
       "      <td>4.473537</td>\n",
       "      <td>European Bakery &amp; Deli</td>\n",
       "    </tr>\n",
       "    <tr>\n",
       "      <th>1365</th>\n",
       "      <td>[]</td>\n",
       "      <td>4.450064</td>\n",
       "      <td>Big Catch</td>\n",
       "    </tr>\n",
       "    <tr>\n",
       "      <th>723</th>\n",
       "      <td>[]</td>\n",
       "      <td>4.443864</td>\n",
       "      <td>Veg-In YYC</td>\n",
       "    </tr>\n",
       "    <tr>\n",
       "      <th>2245</th>\n",
       "      <td>[]</td>\n",
       "      <td>4.435162</td>\n",
       "      <td>Madras Cafe</td>\n",
       "    </tr>\n",
       "    <tr>\n",
       "      <th>2695</th>\n",
       "      <td>[]</td>\n",
       "      <td>4.424780</td>\n",
       "      <td>Crispy Crust Pizza</td>\n",
       "    </tr>\n",
       "    <tr>\n",
       "      <th>1643</th>\n",
       "      <td>[]</td>\n",
       "      <td>4.419245</td>\n",
       "      <td>Cafe Momoko</td>\n",
       "    </tr>\n",
       "    <tr>\n",
       "      <th>165</th>\n",
       "      <td>[]</td>\n",
       "      <td>4.386906</td>\n",
       "      <td>Beirut Street Food</td>\n",
       "    </tr>\n",
       "    <tr>\n",
       "      <th>419</th>\n",
       "      <td>[]</td>\n",
       "      <td>4.386583</td>\n",
       "      <td>Cafe Fresco</td>\n",
       "    </tr>\n",
       "    <tr>\n",
       "      <th>1663</th>\n",
       "      <td>[]</td>\n",
       "      <td>4.360493</td>\n",
       "      <td>The Himalayan</td>\n",
       "    </tr>\n",
       "    <tr>\n",
       "      <th>2531</th>\n",
       "      <td>[]</td>\n",
       "      <td>4.349191</td>\n",
       "      <td>Peppino</td>\n",
       "    </tr>\n",
       "    <tr>\n",
       "      <th>1481</th>\n",
       "      <td>[]</td>\n",
       "      <td>4.337453</td>\n",
       "      <td>Azzurri Pizzeria</td>\n",
       "    </tr>\n",
       "    <tr>\n",
       "      <th>2292</th>\n",
       "      <td>[]</td>\n",
       "      <td>4.335023</td>\n",
       "      <td>Damascus</td>\n",
       "    </tr>\n",
       "    <tr>\n",
       "      <th>360</th>\n",
       "      <td>[]</td>\n",
       "      <td>4.327836</td>\n",
       "      <td>Shawarma House</td>\n",
       "    </tr>\n",
       "    <tr>\n",
       "      <th>2009</th>\n",
       "      <td>[]</td>\n",
       "      <td>4.325863</td>\n",
       "      <td>Maharajah East Indian Restaurant</td>\n",
       "    </tr>\n",
       "    <tr>\n",
       "      <th>1324</th>\n",
       "      <td>[]</td>\n",
       "      <td>4.321390</td>\n",
       "      <td>The Rock</td>\n",
       "    </tr>\n",
       "    <tr>\n",
       "      <th>989</th>\n",
       "      <td>[]</td>\n",
       "      <td>4.301840</td>\n",
       "      <td>Jerusalem Shawarma &amp; Bakery</td>\n",
       "    </tr>\n",
       "    <tr>\n",
       "      <th>1801</th>\n",
       "      <td>[]</td>\n",
       "      <td>4.298269</td>\n",
       "      <td>Lloyd's Patty Plus</td>\n",
       "    </tr>\n",
       "    <tr>\n",
       "      <th>1070</th>\n",
       "      <td>[]</td>\n",
       "      <td>4.297348</td>\n",
       "      <td>Raw Eatery &amp; Market</td>\n",
       "    </tr>\n",
       "    <tr>\n",
       "      <th>811</th>\n",
       "      <td>[]</td>\n",
       "      <td>4.292111</td>\n",
       "      <td>Everest Curry and Pizza</td>\n",
       "    </tr>\n",
       "    <tr>\n",
       "      <th>1258</th>\n",
       "      <td>[]</td>\n",
       "      <td>4.290451</td>\n",
       "      <td>Saaj Grill</td>\n",
       "    </tr>\n",
       "    <tr>\n",
       "      <th>1189</th>\n",
       "      <td>[]</td>\n",
       "      <td>4.290072</td>\n",
       "      <td>Paros Souvla</td>\n",
       "    </tr>\n",
       "    <tr>\n",
       "      <th>1472</th>\n",
       "      <td>[]</td>\n",
       "      <td>4.271952</td>\n",
       "      <td>Lebanese Fusion Eatery</td>\n",
       "    </tr>\n",
       "    <tr>\n",
       "      <th>409</th>\n",
       "      <td>[]</td>\n",
       "      <td>4.268380</td>\n",
       "      <td>Fresh-adilla, Fresh Tortilla</td>\n",
       "    </tr>\n",
       "    <tr>\n",
       "      <th>1717</th>\n",
       "      <td>[]</td>\n",
       "      <td>4.267880</td>\n",
       "      <td>Hearts Choices</td>\n",
       "    </tr>\n",
       "    <tr>\n",
       "      <th>2526</th>\n",
       "      <td>[]</td>\n",
       "      <td>4.263057</td>\n",
       "      <td>Cowtown Beef Shack</td>\n",
       "    </tr>\n",
       "    <tr>\n",
       "      <th>721</th>\n",
       "      <td>[]</td>\n",
       "      <td>4.262548</td>\n",
       "      <td>Cedars Restaurant &amp; Deli</td>\n",
       "    </tr>\n",
       "    <tr>\n",
       "      <th>870</th>\n",
       "      <td>[]</td>\n",
       "      <td>4.261875</td>\n",
       "      <td>Wild Rose Brewery</td>\n",
       "    </tr>\n",
       "    <tr>\n",
       "      <th>1606</th>\n",
       "      <td>[]</td>\n",
       "      <td>4.249882</td>\n",
       "      <td>Tamarind Vietnamese Grill &amp; Noodle House</td>\n",
       "    </tr>\n",
       "    <tr>\n",
       "      <th>1313</th>\n",
       "      <td>[]</td>\n",
       "      <td>4.249138</td>\n",
       "      <td>Khao San Thai Kitchen</td>\n",
       "    </tr>\n",
       "    <tr>\n",
       "      <th>951</th>\n",
       "      <td>[]</td>\n",
       "      <td>4.243977</td>\n",
       "      <td>Deane House</td>\n",
       "    </tr>\n",
       "    <tr>\n",
       "      <th>...</th>\n",
       "      <td>...</td>\n",
       "      <td>...</td>\n",
       "      <td>...</td>\n",
       "    </tr>\n",
       "    <tr>\n",
       "      <th>2748</th>\n",
       "      <td>[]</td>\n",
       "      <td>2.409540</td>\n",
       "      <td>Moxie's Grill &amp; Bar</td>\n",
       "    </tr>\n",
       "    <tr>\n",
       "      <th>659</th>\n",
       "      <td>[]</td>\n",
       "      <td>2.409312</td>\n",
       "      <td>East Side Mario's</td>\n",
       "    </tr>\n",
       "    <tr>\n",
       "      <th>279</th>\n",
       "      <td>[]</td>\n",
       "      <td>2.402169</td>\n",
       "      <td>Loungeburger</td>\n",
       "    </tr>\n",
       "    <tr>\n",
       "      <th>2262</th>\n",
       "      <td>[]</td>\n",
       "      <td>2.396048</td>\n",
       "      <td>Montana's BBQ &amp; Bar</td>\n",
       "    </tr>\n",
       "    <tr>\n",
       "      <th>2023</th>\n",
       "      <td>[]</td>\n",
       "      <td>2.394901</td>\n",
       "      <td>McDonald's</td>\n",
       "    </tr>\n",
       "    <tr>\n",
       "      <th>1296</th>\n",
       "      <td>[]</td>\n",
       "      <td>2.388633</td>\n",
       "      <td>Hot Point Fusion Cafe</td>\n",
       "    </tr>\n",
       "    <tr>\n",
       "      <th>620</th>\n",
       "      <td>[]</td>\n",
       "      <td>2.380195</td>\n",
       "      <td>Moxie's Grill &amp; Bar</td>\n",
       "    </tr>\n",
       "    <tr>\n",
       "      <th>2306</th>\n",
       "      <td>[]</td>\n",
       "      <td>2.371467</td>\n",
       "      <td>The Loop Eating &amp; Drinking</td>\n",
       "    </tr>\n",
       "    <tr>\n",
       "      <th>1817</th>\n",
       "      <td>[]</td>\n",
       "      <td>2.370828</td>\n",
       "      <td>Ceili's on 8th Modern Irish Pub</td>\n",
       "    </tr>\n",
       "    <tr>\n",
       "      <th>681</th>\n",
       "      <td>[]</td>\n",
       "      <td>2.358861</td>\n",
       "      <td>Swiss Chalet Rotisserie &amp; Grill</td>\n",
       "    </tr>\n",
       "    <tr>\n",
       "      <th>2275</th>\n",
       "      <td>[]</td>\n",
       "      <td>2.347422</td>\n",
       "      <td>Tim Hortons</td>\n",
       "    </tr>\n",
       "    <tr>\n",
       "      <th>236</th>\n",
       "      <td>[]</td>\n",
       "      <td>2.343302</td>\n",
       "      <td>McDonald's</td>\n",
       "    </tr>\n",
       "    <tr>\n",
       "      <th>1142</th>\n",
       "      <td>[]</td>\n",
       "      <td>2.337051</td>\n",
       "      <td>Tony Roma's</td>\n",
       "    </tr>\n",
       "    <tr>\n",
       "      <th>406</th>\n",
       "      <td>[]</td>\n",
       "      <td>2.317597</td>\n",
       "      <td>Kelsey's</td>\n",
       "    </tr>\n",
       "    <tr>\n",
       "      <th>1555</th>\n",
       "      <td>[]</td>\n",
       "      <td>2.315394</td>\n",
       "      <td>722 World Bier Haus</td>\n",
       "    </tr>\n",
       "    <tr>\n",
       "      <th>2267</th>\n",
       "      <td>[]</td>\n",
       "      <td>2.274935</td>\n",
       "      <td>East Side Mario's</td>\n",
       "    </tr>\n",
       "    <tr>\n",
       "      <th>2310</th>\n",
       "      <td>[]</td>\n",
       "      <td>2.265534</td>\n",
       "      <td>Boardwalk Fresh Burgers and Fries</td>\n",
       "    </tr>\n",
       "    <tr>\n",
       "      <th>1366</th>\n",
       "      <td>[]</td>\n",
       "      <td>2.264141</td>\n",
       "      <td>Boston Pizza</td>\n",
       "    </tr>\n",
       "    <tr>\n",
       "      <th>491</th>\n",
       "      <td>[]</td>\n",
       "      <td>2.253088</td>\n",
       "      <td>Made In Japan Teriyaki Experience</td>\n",
       "    </tr>\n",
       "    <tr>\n",
       "      <th>2704</th>\n",
       "      <td>[]</td>\n",
       "      <td>2.249969</td>\n",
       "      <td>Chianti Cafe &amp; Restaurant</td>\n",
       "    </tr>\n",
       "    <tr>\n",
       "      <th>1561</th>\n",
       "      <td>[]</td>\n",
       "      <td>2.193776</td>\n",
       "      <td>Marquee Beer Market</td>\n",
       "    </tr>\n",
       "    <tr>\n",
       "      <th>687</th>\n",
       "      <td>[]</td>\n",
       "      <td>2.175788</td>\n",
       "      <td>Osteria De Medici</td>\n",
       "    </tr>\n",
       "    <tr>\n",
       "      <th>1627</th>\n",
       "      <td>[]</td>\n",
       "      <td>2.146967</td>\n",
       "      <td>Servisair Chinook Lounge</td>\n",
       "    </tr>\n",
       "    <tr>\n",
       "      <th>1279</th>\n",
       "      <td>[]</td>\n",
       "      <td>2.131718</td>\n",
       "      <td>Chili's Texas Grill</td>\n",
       "    </tr>\n",
       "    <tr>\n",
       "      <th>1376</th>\n",
       "      <td>[]</td>\n",
       "      <td>2.094849</td>\n",
       "      <td>Sushi Tokyo</td>\n",
       "    </tr>\n",
       "    <tr>\n",
       "      <th>1748</th>\n",
       "      <td>[]</td>\n",
       "      <td>2.064936</td>\n",
       "      <td>Cafe Medina</td>\n",
       "    </tr>\n",
       "    <tr>\n",
       "      <th>1738</th>\n",
       "      <td>[]</td>\n",
       "      <td>2.024137</td>\n",
       "      <td>Pizza 73</td>\n",
       "    </tr>\n",
       "    <tr>\n",
       "      <th>2633</th>\n",
       "      <td>[]</td>\n",
       "      <td>2.004042</td>\n",
       "      <td>Boston Pizza</td>\n",
       "    </tr>\n",
       "    <tr>\n",
       "      <th>2448</th>\n",
       "      <td>[]</td>\n",
       "      <td>1.979620</td>\n",
       "      <td>The Pint</td>\n",
       "    </tr>\n",
       "    <tr>\n",
       "      <th>200</th>\n",
       "      <td>[]</td>\n",
       "      <td>1.903345</td>\n",
       "      <td>McDonald's</td>\n",
       "    </tr>\n",
       "  </tbody>\n",
       "</table>\n",
       "<p>2757 rows × 3 columns</p>\n",
       "</div>"
      ],
      "text/plain": [
       "     actual_rating  predicted_rating                                restaurant\n",
       "2478            []          4.473537                    European Bakery & Deli\n",
       "1365            []          4.450064                                 Big Catch\n",
       "723             []          4.443864                                Veg-In YYC\n",
       "2245            []          4.435162                               Madras Cafe\n",
       "2695            []          4.424780                        Crispy Crust Pizza\n",
       "1643            []          4.419245                               Cafe Momoko\n",
       "165             []          4.386906                        Beirut Street Food\n",
       "419             []          4.386583                               Cafe Fresco\n",
       "1663            []          4.360493                             The Himalayan\n",
       "2531            []          4.349191                                   Peppino\n",
       "1481            []          4.337453                          Azzurri Pizzeria\n",
       "2292            []          4.335023                                  Damascus\n",
       "360             []          4.327836                            Shawarma House\n",
       "2009            []          4.325863          Maharajah East Indian Restaurant\n",
       "1324            []          4.321390                                  The Rock\n",
       "989             []          4.301840               Jerusalem Shawarma & Bakery\n",
       "1801            []          4.298269                        Lloyd's Patty Plus\n",
       "1070            []          4.297348                       Raw Eatery & Market\n",
       "811             []          4.292111                   Everest Curry and Pizza\n",
       "1258            []          4.290451                                Saaj Grill\n",
       "1189            []          4.290072                              Paros Souvla\n",
       "1472            []          4.271952                    Lebanese Fusion Eatery\n",
       "409             []          4.268380              Fresh-adilla, Fresh Tortilla\n",
       "1717            []          4.267880                            Hearts Choices\n",
       "2526            []          4.263057                        Cowtown Beef Shack\n",
       "721             []          4.262548                  Cedars Restaurant & Deli\n",
       "870             []          4.261875                         Wild Rose Brewery\n",
       "1606            []          4.249882  Tamarind Vietnamese Grill & Noodle House\n",
       "1313            []          4.249138                     Khao San Thai Kitchen\n",
       "951             []          4.243977                               Deane House\n",
       "...            ...               ...                                       ...\n",
       "2748            []          2.409540                       Moxie's Grill & Bar\n",
       "659             []          2.409312                         East Side Mario's\n",
       "279             []          2.402169                              Loungeburger\n",
       "2262            []          2.396048                       Montana's BBQ & Bar\n",
       "2023            []          2.394901                                McDonald's\n",
       "1296            []          2.388633                     Hot Point Fusion Cafe\n",
       "620             []          2.380195                       Moxie's Grill & Bar\n",
       "2306            []          2.371467                The Loop Eating & Drinking\n",
       "1817            []          2.370828           Ceili's on 8th Modern Irish Pub\n",
       "681             []          2.358861           Swiss Chalet Rotisserie & Grill\n",
       "2275            []          2.347422                               Tim Hortons\n",
       "236             []          2.343302                                McDonald's\n",
       "1142            []          2.337051                               Tony Roma's\n",
       "406             []          2.317597                                  Kelsey's\n",
       "1555            []          2.315394                       722 World Bier Haus\n",
       "2267            []          2.274935                         East Side Mario's\n",
       "2310            []          2.265534         Boardwalk Fresh Burgers and Fries\n",
       "1366            []          2.264141                              Boston Pizza\n",
       "491             []          2.253088         Made In Japan Teriyaki Experience\n",
       "2704            []          2.249969                 Chianti Cafe & Restaurant\n",
       "1561            []          2.193776                       Marquee Beer Market\n",
       "687             []          2.175788                         Osteria De Medici\n",
       "1627            []          2.146967                  Servisair Chinook Lounge\n",
       "1279            []          2.131718                       Chili's Texas Grill\n",
       "1376            []          2.094849                               Sushi Tokyo\n",
       "1748            []          2.064936                               Cafe Medina\n",
       "1738            []          2.024137                                  Pizza 73\n",
       "2633            []          2.004042                              Boston Pizza\n",
       "2448            []          1.979620                                  The Pint\n",
       "200             []          1.903345                                McDonald's\n",
       "\n",
       "[2757 rows x 3 columns]"
      ]
     },
     "execution_count": 372,
     "metadata": {},
     "output_type": "execute_result"
    }
   ],
   "source": [
    "test_rated_df.sort_values(by=['predicted_rating'],ascending=False)"
   ]
  },
  {
   "cell_type": "markdown",
   "metadata": {},
   "source": [
    "### 6-3-5 Test recommendation for new user (cold start)"
   ]
  },
  {
   "cell_type": "code",
   "execution_count": 387,
   "metadata": {
    "scrolled": true
   },
   "outputs": [],
   "source": [
    "no_reviews_users = users_df.merge(reviews_df, on='user_id', how='left')[['user_id','review_id']]"
   ]
  },
  {
   "cell_type": "code",
   "execution_count": 452,
   "metadata": {},
   "outputs": [],
   "source": [
    "top_restaurants = my_recommender.recommend_restaurant_search('U2E4aVOe0WYm-aJdT5Syyw','RrCgc8eAKbHu-2IpQXg6Rw')"
   ]
  },
  {
   "cell_type": "code",
   "execution_count": 453,
   "metadata": {
    "scrolled": true
   },
   "outputs": [
    {
     "data": {
      "text/plain": [
       "11072                 Donatello Restaurant\n",
       "16251                         Banh Mi Boys\n",
       "43923                          Tokyo Grill\n",
       "55029                       Sansotei Ramen\n",
       "62836                       Buca Yorkville\n",
       "66478                  Film Cafe by Eative\n",
       "71517              Prohibition Gastrohouse\n",
       "82981     SCADDABUSH Italian Kitchen & Bar\n",
       "85301                                Canoe\n",
       "97230                             Bar Buca\n",
       "104004                Montecito Restaurant\n",
       "111111                           Gusto 101\n",
       "113148                             Soufi's\n",
       "116692                 The Burger's Priest\n",
       "120073                El Catrin Destileria\n",
       "128965                           Kasa Moto\n",
       "131744                 Otto's Berlin Döner\n",
       "140760                                Kiin\n",
       "142545                       The Good Fork\n",
       "Name: name, dtype: object"
      ]
     },
     "metadata": {},
     "output_type": "display_data"
    }
   ],
   "source": [
    "display(top_restaurants)"
   ]
  },
  {
   "cell_type": "markdown",
   "metadata": {},
   "source": [
    "<a id='explore_destination'></a>\n",
    "# 8 Explore Additional Models\n",
    "___"
   ]
  },
  {
   "cell_type": "markdown",
   "metadata": {},
   "source": [
    "## 8-1 Approach 2 - SVDpp"
   ]
  },
  {
   "cell_type": "code",
   "execution_count": null,
   "metadata": {},
   "outputs": [],
   "source": [
    "cross_val_svdpp = SVDpp()\n",
    "surprise.model_selection.cross_validate(cross_val_svdpp, ratings_surprise_df, measures=['RMSE','MAE'])"
   ]
  },
  {
   "cell_type": "code",
   "execution_count": null,
   "metadata": {},
   "outputs": [],
   "source": [
    "# GridSearch for optimizing parameters\n",
    "\n",
    "# opt_svdpp = SVDpp()\n",
    "\n",
    "param_svdpp_grid = {'n_epochs': [5, 10, 15], 'lr_all': [0.007, 0.005, 0.001, 0.1],\n",
    "              'reg_all': [0.4, 0.6, 0.1], 'n_factors': [15, 20, 25, 30]}\n",
    "svdp_optimizer = GridSearchCV(SVDpp, param_svdpp_grid, measures=['rmse', 'mae'], cv=3, n_jobs=-1)\n",
    "\n",
    "svdp_optimizer.fit(ratings_surprise15_df)\n",
    "\n",
    "# best RMSE score\n",
    "print(svdp_optimizer.best_score['rmse'])\n",
    "\n",
    "# combination of parameters that gave the best RMSE score\n",
    "print(svdp_optimizer.best_params['rmse'])"
   ]
  },
  {
   "cell_type": "markdown",
   "metadata": {},
   "source": [
    "## 8-2 Approach 3 - Co-Clustering"
   ]
  },
  {
   "cell_type": "code",
   "execution_count": null,
   "metadata": {
    "scrolled": false
   },
   "outputs": [],
   "source": [
    "test_cluster = CoClustering()\n",
    "surprise.model_selection.cross_validate(test_cluster, ratings_surprise_df, measures=['RMSE','MAE'])"
   ]
  },
  {
   "cell_type": "markdown",
   "metadata": {},
   "source": [
    "## 8-3 Approach 4 - NMF"
   ]
  },
  {
   "cell_type": "code",
   "execution_count": null,
   "metadata": {},
   "outputs": [],
   "source": [
    "test_nmf = NMF()\n",
    "surprise.model_selection.cross_validate(test_nmf, ratings_surprise_df, measures=['RMSE','MAE'])"
   ]
  },
  {
   "cell_type": "code",
   "execution_count": null,
   "metadata": {},
   "outputs": [],
   "source": [
    "# GridSearch for optimizing parameters\n",
    "\n",
    "param_nmf_grid = {'n_epochs': [45, 50, 55],\n",
    "              'reg_pu': [0.06, 0.03, 0.05], 'reg_qi': [0.06, 0.03, 0.05], 'n_factors': [10, 15, 20, 25], 'biased': [False, True]}\n",
    "nmf_optimizer = GridSearchCV(NMF, param_nmf_grid, measures=['rmse', 'mae'], cv=3, n_jobs=-1)\n",
    "\n",
    "nmf_optimizer.fit(ratings_surprise15_df)\n",
    "\n",
    "# best RMSE score\n",
    "print(nmf_optimizer.best_score['rmse'])\n",
    "\n",
    "# combination of parameters that gave the best RMSE score\n",
    "print(nmf_optimizer.best_params['rmse'])"
   ]
  },
  {
   "cell_type": "markdown",
   "metadata": {},
   "source": [
    "These methods took really long even on Google cloud to run during optimization steps. "
   ]
  },
  {
   "cell_type": "markdown",
   "metadata": {},
   "source": [
    "## 8-4 Experiment Text Review Analysis"
   ]
  },
  {
   "cell_type": "code",
   "execution_count": 297,
   "metadata": {},
   "outputs": [],
   "source": [
    "# Instantiate the vectorizer\n",
    "word_vectorizer = TfidfVectorizer(\n",
    "    stop_words='english',\n",
    "    sublinear_tf=True,\n",
    "    strip_accents='unicode',\n",
    "    analyzer='word',\n",
    "    token_pattern=r'\\w{2,}',  #vectorize 2-character words or more\n",
    "    ngram_range=(1, 2),\n",
    "    max_features=30000)"
   ]
  },
  {
   "cell_type": "code",
   "execution_count": 298,
   "metadata": {},
   "outputs": [],
   "source": [
    "# fit and transform on it the training features\n",
    "word_vectorizer.fit(reviews_df[reviews_df['review_year']==2015]['text'])#[:8000])\n",
    "reviews_x_features = word_vectorizer.transform(reviews_df[reviews_df['review_year']==2015]['text'])#[:8000])"
   ]
  },
  {
   "cell_type": "code",
   "execution_count": 299,
   "metadata": {},
   "outputs": [
    {
     "name": "stdout",
     "output_type": "stream",
     "text": [
      "(array([1, 2, 3, 4, 5]), array([ 67578,  52732,  72183, 144256, 223628]))\n",
      "(560377,) (560377,)\n",
      "train set (280188,) (280188,)\n",
      "test set (280189,) (280189,)\n"
     ]
    }
   ],
   "source": [
    "reviews_x = reviews_df[reviews_df['review_year']==2015]['text']\n",
    "reviews_y = reviews_df[reviews_df['review_year']==2015]['stars']\n",
    "\n",
    "print(np.unique(reviews_y.values,return_counts=True))\n",
    "\n",
    "print(reviews_x.shape, reviews_y.shape)\n",
    "\n",
    "reviews_x_train, reviews_x_test, reviews_y_train, reviews_y_test = train_test_split(reviews_x, reviews_y, test_size=0.5, stratify=reviews_y)\n",
    "print('train set', reviews_x_train.shape, reviews_y_train.shape)\n",
    "print('test set', reviews_x_test.shape, reviews_y_test.shape)"
   ]
  },
  {
   "cell_type": "code",
   "execution_count": 305,
   "metadata": {},
   "outputs": [],
   "source": [
    "STOPLIST = set(stopwords.words('english') + list(ENGLISH_STOP_WORDS))\n",
    "SYMBOLS = \" \".join(string.punctuation).split(\" \") + [\"-\", \"...\", \"”\", \"”\"]\n",
    "\n",
    "class CleanTextTransformer(TransformerMixin):\n",
    "\n",
    "    def transform(self, x, **transform_params):\n",
    "        return [cleanText(text) for text in x]\n",
    "\n",
    "    def fit(self, x, y=None, **fit_params):\n",
    "        return self\n",
    "\n",
    "    def get_params(self, deep=True):\n",
    "        return {}\n",
    "    \n",
    "def cleanText(text):\n",
    "    text = text.strip().replace(\"\\n\", \" \").replace(\"\\r\", \" \")\n",
    "    text = text.lower()\n",
    "    return text\n",
    "\n",
    "def tokenizeText(sample):\n",
    "    tokens = parser(sample)\n",
    "    lemmas = []\n",
    "    for tok in tokens:\n",
    "        lemmas.append(tok.lemma_.lower().strip() if tok.lemma_ != \"-PRON-\" else tok.lower_)\n",
    "    tokens = lemmas\n",
    "    tokens = [tok for tok in tokens if tok not in STOPLIST]\n",
    "    tokens = [tok for tok in tokens if tok not in SYMBOLS]\n",
    "    return tokens"
   ]
  },
  {
   "cell_type": "code",
   "execution_count": 306,
   "metadata": {
    "scrolled": false
   },
   "outputs": [
    {
     "name": "stdout",
     "output_type": "stream",
     "text": [
      "linear accuracy: 0.5834133388534168\n"
     ]
    }
   ],
   "source": [
    "vectorizer = CountVectorizer(tokenizer=tokenizeText, ngram_range=(1,1))\n",
    "clf = LinearSVC()\n",
    "\n",
    "pipe = Pipeline([('cleanText', CleanTextTransformer()), ('vectorizer', vectorizer), ('classifier', clf)])\n",
    "\n",
    "pipe.fit(reviews_x_train, reviews_y_train)\n",
    "\n",
    "reviews_lin_preds = pipe.predict(reviews_x_test)\n",
    "\n",
    "print(\"linear accuracy:\", accuracy_score(reviews_y_test, reviews_lin_preds))"
   ]
  },
  {
   "cell_type": "markdown",
   "metadata": {},
   "source": [
    "I realised that I was on a wrong path as text analysis should be done for the restaurants and find similar restaurants instead of modelling regression for text analysis and rating prediction."
   ]
  },
  {
   "cell_type": "markdown",
   "metadata": {},
   "source": [
    "<a id='summary_destination'></a>\n",
    "# 9 Summary\n",
    "___\n",
    "The recommender system problem space has proven to be quite complex. There have been numerous researches done in this space, providing a wealth of approaches. In practice, recommender systems rely on combinations of various models/approaches to provide more reliable recommendations/predictions.\n",
    "\n",
    "There are also engineering tasks involved to improve computation, thus timeliness of recommendation.\n",
    "\n",
    "Another challenge is quality assessment of recommender system. Options range from A/B test, to expert survey, or customer feedback. Businesses want to improve both accuracy and novelty of recommendations.\n",
    "\n",
    "If anything, this project proves the biggest challenge is to devise mechanisms which can overcome sparse matrix, store and process large amount of data, and computation speed."
   ]
  }
 ],
 "metadata": {
  "kernelspec": {
   "display_name": "Python 3",
   "language": "python",
   "name": "python3"
  },
  "language_info": {
   "codemirror_mode": {
    "name": "ipython",
    "version": 3
   },
   "file_extension": ".py",
   "mimetype": "text/x-python",
   "name": "python",
   "nbconvert_exporter": "python",
   "pygments_lexer": "ipython3",
   "version": "3.6.4"
  }
 },
 "nbformat": 4,
 "nbformat_minor": 2
}
